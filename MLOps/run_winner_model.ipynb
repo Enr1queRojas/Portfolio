{
 "cells": [
  {
   "cell_type": "code",
   "execution_count": 12,
   "metadata": {},
   "outputs": [
    {
     "data": {
      "text/plain": [
       "'\\ncd C:/Users/Usuario/AppData/Local/Programs/Python/Python311/Scripts\\n\\nmlflow_env\\\\Scripts\\x07ctivate\\n\\nmlflow models serve -m \"file:///C:/Users/Usuario/AppData/Local/Programs/Python/Python311/Scripts/1/daa2a6f82a974d09b08f17ba7eea27d1/artifacts/model\" -p 5001 --no-conda\\n'"
      ]
     },
     "execution_count": 12,
     "metadata": {},
     "output_type": "execute_result"
    }
   ],
   "source": [
    "\"\"\"\n",
    "cd C:/Users/Usuario/AppData/Local/Programs/Python/Python311/Scripts\n",
    "\n",
    "mlflow_env\\Scripts\\activate\n",
    "\n",
    "mlflow models serve -m \"file:///C:/Users/Usuario/AppData/Local/Programs/Python/Python311/Scripts/1/daa2a6f82a974d09b08f17ba7eea27d1/artifacts/model\" -p 5001 --no-conda\n",
    "\"\"\""
   ]
  },
  {
   "cell_type": "code",
   "execution_count": 13,
   "metadata": {},
   "outputs": [
    {
     "name": "stdout",
     "output_type": "stream",
     "text": [
      "Predicciones: [2 2 1 1 1 1 2 1 1 1 1 1 1 2 1 2 1 1 1 1 2 1 1 1 1 1 2 2 2 1 1 1 1 1 2 1 1\n",
      " 2 2 2 1 2 1 2 1 2 2 1 2 1 1 2 1 2 2 1 1 1 1 1 2 1 1 1 1 2 2 2 1 1 2 1 1 1\n",
      " 1 1 2 1 1 2 2 2 2 2 1 2 2 1 1 1 1 2 1 1 2 2 2 2 2 1 1 1 2 2 2 1 1 2 1 2 1\n",
      " 2 2 1 2 2 1 1 1 1 2 2 2 2 2 1 2 1 1 2 2 1 1 1 2 1 2 2 1 1 2 1 2 1 2 2 2 2\n",
      " 1 2 2 2 2 1 2 2 2 2 1 2 2 2 1 1 2 2 1 2 1 1 1 2 2 1 2 2 1 2 2 1 1 2 1 1 1\n",
      " 1 1 1 2 1 2 2 2 1 1 1 2 2 2 2 2 1 1 2 2 1 1 1 2 2 1 2 2 2 2 2 1 2 1 2 2 2\n",
      " 2 1 2 2 1 1 2 2 1 1 1 2 1 2 1 2 1 2 1 2 1 2 1 1 2 2 2 2 1 1 1 2 2 2 2 1 1\n",
      " 2 2 2 1 2 2 1 2 2 2 1 2 2 2 2 1 1 2 1 1 1]\n"
     ]
    }
   ],
   "source": [
    "import mlflow.sklearn\n",
    "import numpy as np\n",
    "\n",
    "\n",
    "X_test = np.genfromtxt(\"X_test.csv\", delimiter=\",\")\n",
    "\n",
    "# Especifica la URI del modelo registrado\n",
    "model_uri = \"file:///C:/Users/Usuario/AppData/Local/Programs/Python/Python311/Scripts/1/daa2a6f82a974d09b08f17ba7eea27d1/artifacts/model\"\n",
    "\n",
    "# Carga el modelo\n",
    "loaded_model = mlflow.sklearn.load_model(model_uri)\n",
    "\n",
    "# Usar el modelo para hacer predicciones\n",
    "predictions = loaded_model.predict(X_test)\n",
    "\n",
    "# Imprimir las predicciones\n",
    "print(\"Predicciones:\", predictions)\n"
   ]
  }
 ],
 "metadata": {
  "kernelspec": {
   "display_name": "Python 3",
   "language": "python",
   "name": "python3"
  },
  "language_info": {
   "codemirror_mode": {
    "name": "ipython",
    "version": 3
   },
   "file_extension": ".py",
   "mimetype": "text/x-python",
   "name": "python",
   "nbconvert_exporter": "python",
   "pygments_lexer": "ipython3",
   "version": "3.11.4"
  }
 },
 "nbformat": 4,
 "nbformat_minor": 2
}
