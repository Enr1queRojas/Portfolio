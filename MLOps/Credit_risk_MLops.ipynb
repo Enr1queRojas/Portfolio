{
 "cells": [
  {
   "cell_type": "code",
   "execution_count": 99,
   "metadata": {},
   "outputs": [],
   "source": [
    "\n",
    "\n",
    "import mlflow\n",
    "import mlflow.sklearn\n",
    "import pandas as pd\n",
    "from sklearn.model_selection import train_test_split\n",
    "from sklearn.metrics import accuracy_score, roc_auc_score, log_loss\n",
    "from sklearn.linear_model import LogisticRegression\n",
    "from sklearn.tree import DecisionTreeClassifier\n",
    "from sklearn.ensemble import RandomForestClassifier\n",
    "from sklearn.svm import SVC\n",
    "from sklearn.neural_network import MLPClassifier\n",
    "\n"
   ]
  },
  {
   "cell_type": "code",
   "execution_count": 100,
   "metadata": {},
   "outputs": [
    {
     "name": "stdout",
     "output_type": "stream",
     "text": [
      "  Status of Existing Checking Account  Duration in Months Credit History  \\\n",
      "0                                 A11                   6            A34   \n",
      "1                                 A12                  48            A32   \n",
      "2                                 A14                  12            A34   \n",
      "3                                 A11                  42            A32   \n",
      "4                                 A11                  24            A33   \n",
      "\n",
      "  Purpose  Credit Amount Savings Account/Bonds Present Employment Since  \\\n",
      "0     A43           1169                   A65                      A75   \n",
      "1     A43           5951                   A61                      A73   \n",
      "2     A46           2096                   A61                      A74   \n",
      "3     A42           7882                   A61                      A74   \n",
      "4     A40           4870                   A61                      A73   \n",
      "\n",
      "   Installment Rate in Percentage of Disposable Income  \\\n",
      "0                                                  4     \n",
      "1                                                  2     \n",
      "2                                                  2     \n",
      "3                                                  2     \n",
      "4                                                  3     \n",
      "\n",
      "  Personal Status and Sex Other Debtors/Guarantors  ...  Property  \\\n",
      "0                     A93                     A101  ...      A121   \n",
      "1                     A92                     A101  ...      A121   \n",
      "2                     A93                     A101  ...      A121   \n",
      "3                     A93                     A103  ...      A122   \n",
      "4                     A93                     A101  ...      A124   \n",
      "\n",
      "  Age in Years  Other Installment Plans Housing  \\\n",
      "0           67                     A143    A152   \n",
      "1           22                     A143    A152   \n",
      "2           49                     A143    A152   \n",
      "3           45                     A143    A153   \n",
      "4           53                     A143    A153   \n",
      "\n",
      "  Number of Existing Credits at This Bank   Job  \\\n",
      "0                                       2  A173   \n",
      "1                                       1  A173   \n",
      "2                                       1  A172   \n",
      "3                                       1  A173   \n",
      "4                                       2  A173   \n",
      "\n",
      "  Number of People Liable to Provide Maintenance For  Telephone  \\\n",
      "0                                                  1       A192   \n",
      "1                                                  1       A191   \n",
      "2                                                  2       A191   \n",
      "3                                                  2       A191   \n",
      "4                                                  2       A191   \n",
      "\n",
      "  Foreign Worker Target  \n",
      "0           A201      1  \n",
      "1           A201      2  \n",
      "2           A201      1  \n",
      "3           A201      1  \n",
      "4           A201      2  \n",
      "\n",
      "[5 rows x 21 columns]\n",
      "       Duration in Months  Credit Amount  \\\n",
      "count         1000.000000    1000.000000   \n",
      "mean            20.903000    3271.258000   \n",
      "std             12.058814    2822.736876   \n",
      "min              4.000000     250.000000   \n",
      "25%             12.000000    1365.500000   \n",
      "50%             18.000000    2319.500000   \n",
      "75%             24.000000    3972.250000   \n",
      "max             72.000000   18424.000000   \n",
      "\n",
      "       Installment Rate in Percentage of Disposable Income  \\\n",
      "count                                        1000.000000     \n",
      "mean                                            2.973000     \n",
      "std                                             1.118715     \n",
      "min                                             1.000000     \n",
      "25%                                             2.000000     \n",
      "50%                                             3.000000     \n",
      "75%                                             4.000000     \n",
      "max                                             4.000000     \n",
      "\n",
      "       Present Residence Since  Age in Years  \\\n",
      "count              1000.000000   1000.000000   \n",
      "mean                  2.845000     35.546000   \n",
      "std                   1.103718     11.375469   \n",
      "min                   1.000000     19.000000   \n",
      "25%                   2.000000     27.000000   \n",
      "50%                   3.000000     33.000000   \n",
      "75%                   4.000000     42.000000   \n",
      "max                   4.000000     75.000000   \n",
      "\n",
      "       Number of Existing Credits at This Bank  \\\n",
      "count                              1000.000000   \n",
      "mean                                  1.407000   \n",
      "std                                   0.577654   \n",
      "min                                   1.000000   \n",
      "25%                                   1.000000   \n",
      "50%                                   1.000000   \n",
      "75%                                   2.000000   \n",
      "max                                   4.000000   \n",
      "\n",
      "       Number of People Liable to Provide Maintenance For       Target  \n",
      "count                                        1000.000000   1000.000000  \n",
      "mean                                            1.155000      1.300000  \n",
      "std                                             0.362086      0.458487  \n",
      "min                                             1.000000      1.000000  \n",
      "25%                                             1.000000      1.000000  \n",
      "50%                                             1.000000      1.000000  \n",
      "75%                                             1.000000      2.000000  \n",
      "max                                             2.000000      2.000000  \n"
     ]
    }
   ],
   "source": [
    "# Cargar los datos\n",
    "data_path = r'C:\\Users\\Usuario\\OneDrive\\Documents\\Portfolio\\Portfolio\\clasic_models\\data\\german.data'\n",
    "df = pd.read_csv(data_path, header=None, delim_whitespace=True)\n",
    "\n",
    "column_names = [\n",
    "    \"Status of Existing Checking Account\", \"Duration in Months\", \"Credit History\",\n",
    "    \"Purpose\", \"Credit Amount\", \"Savings Account/Bonds\", \"Present Employment Since\",\n",
    "    \"Installment Rate in Percentage of Disposable Income\", \"Personal Status and Sex\",\n",
    "    \"Other Debtors/Guarantors\", \"Present Residence Since\", \"Property\", \"Age in Years\",\n",
    "    \"Other Installment Plans\", \"Housing\", \"Number of Existing Credits at This Bank\",\n",
    "    \"Job\", \"Number of People Liable to Provide Maintenance For\", \"Telephone\",\n",
    "    \"Foreign Worker\",\"Target\"\n",
    "]\n",
    "\n",
    "# Assign column names to the DataFrame\n",
    "df.columns = column_names\n",
    "\n",
    "# Exploración básica\n",
    "print(df.head())\n",
    "print(df.describe())\n"
   ]
  },
  {
   "cell_type": "code",
   "execution_count": 101,
   "metadata": {},
   "outputs": [
    {
     "data": {
      "text/plain": [
       "Status of Existing Checking Account                    int32\n",
       "Duration in Months                                     int64\n",
       "Credit History                                         int32\n",
       "Purpose                                                int32\n",
       "Credit Amount                                          int64\n",
       "Savings Account/Bonds                                  int32\n",
       "Present Employment Since                               int32\n",
       "Installment Rate in Percentage of Disposable Income    int64\n",
       "Personal Status and Sex                                int32\n",
       "Other Debtors/Guarantors                               int32\n",
       "Present Residence Since                                int64\n",
       "Property                                               int32\n",
       "Age in Years                                           int64\n",
       "Other Installment Plans                                int32\n",
       "Housing                                                int32\n",
       "Number of Existing Credits at This Bank                int64\n",
       "Job                                                    int32\n",
       "Number of People Liable to Provide Maintenance For     int64\n",
       "Telephone                                               int8\n",
       "Foreign Worker                                          int8\n",
       "Target                                                 int64\n",
       "dtype: object"
      ]
     },
     "execution_count": 101,
     "metadata": {},
     "output_type": "execute_result"
    }
   ],
   "source": [
    "# Encoding categorical columns\n",
    "\n",
    "categorical_columns = df.dtypes[df.dtypes == 'object'].index.tolist()\n",
    "\n",
    "from sklearn.preprocessing import LabelEncoder\n",
    "label_encoder = LabelEncoder()\n",
    "\n",
    "for col in categorical_columns:\n",
    "    num_unique_values = df[col].nunique()\n",
    "    if num_unique_values == 2:\n",
    "        # Boolean numerical encoding\n",
    "        df[col] = df[col].astype('category').cat.codes\n",
    "    elif num_unique_values > 2:\n",
    "        # Ordinal enco\n",
    "        df[col] = label_encoder.fit_transform(df[col])\n",
    "\n",
    "df.dtypes"
   ]
  },
  {
   "cell_type": "code",
   "execution_count": 102,
   "metadata": {},
   "outputs": [],
   "source": [
    "from sklearn.preprocessing import StandardScaler\n",
    "from imblearn.over_sampling import SMOTE\n",
    "\n",
    "# Preprocesamiento (suponiendo un conjunto de datos básico)\n",
    "X = df.drop('Target', axis=1)  # Reemplaza 'target' con el nombre de la columna objetivo\n",
    "y = df['Target']\n",
    "\n",
    "sm = SMOTE(sampling_strategy=1, k_neighbors=5, random_state=1)\n",
    "X, y = sm.fit_resample(X, y)\n",
    "\n",
    "# Dividir el dataset en conjuntos de entrenamiento y prueba\n",
    "X_train, X_test, y_train, y_test = train_test_split(X, y, test_size=0.2, random_state=42)\n",
    "\n",
    "# Escalado de características\n",
    "scaler = StandardScaler()\n",
    "X_train = scaler.fit_transform(X_train)\n",
    "X_test = scaler.transform(X_test)\n",
    "\n",
    "\n",
    "# Definir los modelos\n",
    "models = {\n",
    "    \"Logistic Regression\": LogisticRegression(max_iter=500),\n",
    "    \"Decision Tree\": DecisionTreeClassifier(),\n",
    "    \"Random Forest\": RandomForestClassifier(),\n",
    "    \"SVM\": SVC(probability=True),\n",
    "    \"Neural Network\": MLPClassifier(max_iter=1000)\n",
    "}\n"
   ]
  },
  {
   "cell_type": "code",
   "execution_count": 103,
   "metadata": {},
   "outputs": [
    {
     "data": {
      "text/plain": [
       "<Experiment: artifact_location='file:///C:/Users/Usuario/mlruns/2', creation_time=1723497374173, experiment_id='2', last_update_time=1723497374173, lifecycle_stage='active', name='Base', tags={}>"
      ]
     },
     "execution_count": 103,
     "metadata": {},
     "output_type": "execute_result"
    }
   ],
   "source": [
    "import mlflow\n",
    "\n",
    "\n",
    "# Configura el URI de tracking para conectarte al servidor MLflow\n",
    "mlflow.set_tracking_uri(\"http://localhost:5000\")\n",
    "\n",
    "# Establecer el experimento (puedes usar el \"Default\" o crear uno nuevo)\n",
    "mlflow.set_experiment(\"Base\")  # O el nombre del experimento que desees usar\n",
    "\n"
   ]
  },
  {
   "cell_type": "code",
   "execution_count": 104,
   "metadata": {},
   "outputs": [
    {
     "name": "stderr",
     "output_type": "stream",
     "text": [
      "2024/08/12 15:21:54 INFO mlflow.tracking._tracking_service.client: 🏃 View run Logistic Regression at: http://localhost:5000/#/experiments/2/runs/4ae90e36fd2349108e1a17402a44b435.\n",
      "2024/08/12 15:21:54 INFO mlflow.tracking._tracking_service.client: 🧪 View experiment at: http://localhost:5000/#/experiments/2.\n",
      "2024/08/12 15:21:55 INFO mlflow.tracking._tracking_service.client: 🏃 View run Decision Tree at: http://localhost:5000/#/experiments/2/runs/e653bf0e9aff4f9b940bfeef3ca35f71.\n",
      "2024/08/12 15:21:55 INFO mlflow.tracking._tracking_service.client: 🧪 View experiment at: http://localhost:5000/#/experiments/2.\n",
      "2024/08/12 15:21:57 INFO mlflow.tracking._tracking_service.client: 🏃 View run Random Forest at: http://localhost:5000/#/experiments/2/runs/336f6cd738a640fe8cb05129d7cd019a.\n",
      "2024/08/12 15:21:57 INFO mlflow.tracking._tracking_service.client: 🧪 View experiment at: http://localhost:5000/#/experiments/2.\n",
      "2024/08/12 15:21:59 INFO mlflow.tracking._tracking_service.client: 🏃 View run SVM at: http://localhost:5000/#/experiments/2/runs/b89d101e09d84c2d8a400c031bd1871a.\n",
      "2024/08/12 15:21:59 INFO mlflow.tracking._tracking_service.client: 🧪 View experiment at: http://localhost:5000/#/experiments/2.\n",
      "2024/08/12 15:22:03 INFO mlflow.tracking._tracking_service.client: 🏃 View run Neural Network at: http://localhost:5000/#/experiments/2/runs/25676548fa13413d92905d093fef4aa9.\n",
      "2024/08/12 15:22:03 INFO mlflow.tracking._tracking_service.client: 🧪 View experiment at: http://localhost:5000/#/experiments/2.\n"
     ]
    }
   ],
   "source": [
    "import warnings\n",
    "import mlflow.sklearn\n",
    "# Ignorar solo las advertencias específicas de distutils y setuptools\n",
    "warnings.filterwarnings(\"ignore\", message=\"Setuptools is replacing distutils.\")\n",
    "warnings.filterwarnings(\"ignore\", message=\"Distutils was imported before Setuptools\")\n",
    "\n",
    "for model_name, model in models.items():\n",
    "    with mlflow.start_run(run_name=model_name):\n",
    "        # Entrenar el modelo\n",
    "        model.fit(X_train, y_train)\n",
    "        \n",
    "        # Predicciones\n",
    "        y_pred = model.predict(X_test)\n",
    "        y_probs = model.predict_proba(X_test)[:, 1]\n",
    "        \n",
    "        # Calcular métricas\n",
    "        acc = accuracy_score(y_test, y_pred)\n",
    "        auc = roc_auc_score(y_test, y_probs)\n",
    "        loss = log_loss(y_test, y_probs)\n",
    "        \n",
    "        # Loguear parámetros y métricas en MLflow\n",
    "        mlflow.log_param(\"model_name\", model_name)\n",
    "        mlflow.log_metric(\"accuracy\", acc)\n",
    "        mlflow.log_metric(\"auc_roc\", auc)\n",
    "        mlflow.log_metric(\"log_loss\", loss)\n",
    "        \n",
    "        \n",
    "        \n",
    "        # Guardar el modelo\n",
    "        input_example = X_test[0:1]\n",
    "        mlflow.sklearn.log_model(model, \"model\",input_example=input_example)\n"
   ]
  },
  {
   "cell_type": "code",
   "execution_count": 105,
   "metadata": {},
   "outputs": [
    {
     "data": {
      "text/plain": [
       "<Experiment: artifact_location='file:///C:/Users/Usuario/mlruns/4', creation_time=1723497384990, experiment_id='4', last_update_time=1723497384990, lifecycle_stage='active', name='GridSearch_Portfolio', tags={}>"
      ]
     },
     "execution_count": 105,
     "metadata": {},
     "output_type": "execute_result"
    }
   ],
   "source": [
    "# Configura el URI de tracking para conectarte al servidor MLflow\n",
    "mlflow.set_tracking_uri(\"http://localhost:5000\")\n",
    "\n",
    "# Establecer el experimento\n",
    "mlflow.set_experiment(\"GridSearch_Portfolio\")"
   ]
  },
  {
   "cell_type": "code",
   "execution_count": 106,
   "metadata": {},
   "outputs": [
    {
     "name": "stderr",
     "output_type": "stream",
     "text": [
      "2024/08/12 15:22:04 WARNING mlflow.models.model: Input example should be provided to infer model signature if the model signature is not provided when logging the model.\n",
      "2024/08/12 15:22:04 INFO mlflow.tracking._tracking_service.client: 🏃 View run Logistic Regression at: http://localhost:5000/#/experiments/4/runs/e15bc14f0b33474e8e6173188b759a9d.\n",
      "2024/08/12 15:22:04 INFO mlflow.tracking._tracking_service.client: 🧪 View experiment at: http://localhost:5000/#/experiments/4.\n"
     ]
    },
    {
     "name": "stdout",
     "output_type": "stream",
     "text": [
      "Mejor modelo para Logistic Regression registrado con accuracy: 0.8142857142857143, precision: 0.821043964488813, recall: 0.8142857142857143, F1 Score: 0.8142857142857143\n"
     ]
    },
    {
     "name": "stderr",
     "output_type": "stream",
     "text": [
      "2024/08/12 15:22:06 WARNING mlflow.models.model: Input example should be provided to infer model signature if the model signature is not provided when logging the model.\n",
      "2024/08/12 15:22:06 INFO mlflow.tracking._tracking_service.client: 🏃 View run Decision Tree at: http://localhost:5000/#/experiments/4/runs/bd60fd21cc904df0bc241496cedb3205.\n",
      "2024/08/12 15:22:06 INFO mlflow.tracking._tracking_service.client: 🧪 View experiment at: http://localhost:5000/#/experiments/4.\n"
     ]
    },
    {
     "name": "stdout",
     "output_type": "stream",
     "text": [
      "Mejor modelo para Decision Tree registrado con accuracy: 0.7464285714285714, precision: 0.7465580028080029, recall: 0.7464285714285714, F1 Score: 0.7464837584609447\n"
     ]
    },
    {
     "name": "stderr",
     "output_type": "stream",
     "text": [
      "2024/08/12 15:22:15 WARNING mlflow.models.model: Input example should be provided to infer model signature if the model signature is not provided when logging the model.\n",
      "2024/08/12 15:22:15 INFO mlflow.tracking._tracking_service.client: 🏃 View run Random Forest at: http://localhost:5000/#/experiments/4/runs/ba2b0a1c4d3b4055b27dc5563cecc877.\n",
      "2024/08/12 15:22:15 INFO mlflow.tracking._tracking_service.client: 🧪 View experiment at: http://localhost:5000/#/experiments/4.\n"
     ]
    },
    {
     "name": "stdout",
     "output_type": "stream",
     "text": [
      "Mejor modelo para Random Forest registrado con accuracy: 0.8357142857142857, precision: 0.8401331873745668, recall: 0.8357142857142857, F1 Score: 0.8358316566063044\n"
     ]
    },
    {
     "name": "stderr",
     "output_type": "stream",
     "text": [
      "2024/08/12 15:22:18 WARNING mlflow.models.model: Input example should be provided to infer model signature if the model signature is not provided when logging the model.\n",
      "2024/08/12 15:22:18 INFO mlflow.tracking._tracking_service.client: 🏃 View run SVM at: http://localhost:5000/#/experiments/4/runs/07e09c6e6e8f4f92971999bee193cb25.\n",
      "2024/08/12 15:22:18 INFO mlflow.tracking._tracking_service.client: 🧪 View experiment at: http://localhost:5000/#/experiments/4.\n"
     ]
    },
    {
     "name": "stdout",
     "output_type": "stream",
     "text": [
      "Mejor modelo para SVM registrado con accuracy: 0.85, precision: 0.8556876886092782, recall: 0.85, F1 Score: 0.8500612276136538\n"
     ]
    },
    {
     "name": "stderr",
     "output_type": "stream",
     "text": [
      "c:\\Users\\Usuario\\AppData\\Local\\Programs\\Python\\Python311\\Lib\\site-packages\\sklearn\\neural_network\\_multilayer_perceptron.py:690: ConvergenceWarning: Stochastic Optimizer: Maximum iterations (300) reached and the optimization hasn't converged yet.\n",
      "  warnings.warn(\n",
      "2024/08/12 15:22:51 WARNING mlflow.models.model: Input example should be provided to infer model signature if the model signature is not provided when logging the model.\n",
      "2024/08/12 15:22:51 INFO mlflow.tracking._tracking_service.client: 🏃 View run Neural Network at: http://localhost:5000/#/experiments/4/runs/5f71f91c29bf40ff8c25eab4657556a0.\n",
      "2024/08/12 15:22:51 INFO mlflow.tracking._tracking_service.client: 🧪 View experiment at: http://localhost:5000/#/experiments/4.\n"
     ]
    },
    {
     "name": "stdout",
     "output_type": "stream",
     "text": [
      "Mejor modelo para Neural Network registrado con accuracy: 0.8357142857142857, precision: 0.8367840189008072, recall: 0.8357142857142857, F1 Score: 0.8358654379764582\n"
     ]
    }
   ],
   "source": [
    "from sklearn.metrics import accuracy_score, precision_score, recall_score, f1_score\n",
    "from sklearn.model_selection import GridSearchCV\n",
    "\n",
    "\n",
    "\n",
    "\n",
    "# Definir los modelos y sus parámetros para Grid Search\n",
    "model_param_grids = {\n",
    "    \"Logistic Regression\": (LogisticRegression(), {\n",
    "        'C': [0.01, 0.1, 1, 10, 100],\n",
    "        'penalty': ['l1', 'l2'],\n",
    "        'solver': ['liblinear']\n",
    "    }),\n",
    "    \"Decision Tree\": (DecisionTreeClassifier(), {\n",
    "        'max_depth': [None, 10, 20, 30, 40, 50],\n",
    "        'min_samples_split': [2, 5, 10],\n",
    "        'min_samples_leaf': [1, 2, 4]\n",
    "    }),\n",
    "    \"Random Forest\": (RandomForestClassifier(), {\n",
    "        'n_estimators': [50, 100, 200],\n",
    "        'max_depth': [None, 10, 20, 30],\n",
    "        'min_samples_split': [2, 5, 10],\n",
    "        'min_samples_leaf': [1, 2, 4]\n",
    "    }),\n",
    "    \"SVM\": (SVC(probability=True), {\n",
    "        'C': [0.1, 1, 10, 100],\n",
    "        'gamma': [1, 0.1, 0.01, 0.001],\n",
    "        'kernel': ['rbf']\n",
    "    }),\n",
    "    \"Neural Network\": (MLPClassifier(max_iter=300), {\n",
    "        'hidden_layer_sizes': [(50,50,50), (100,), (100,100,100)],\n",
    "        'activation': ['tanh', 'relu'],\n",
    "        'solver': ['sgd', 'adam'],\n",
    "        'alpha': [0.0001, 0.05],\n",
    "        'learning_rate': ['constant','adaptive'],\n",
    "    })\n",
    "}\n",
    "\n",
    "# Iterar sobre cada modelo y sus hiperparámetros\n",
    "for model_name, (model, param_grid) in model_param_grids.items():\n",
    "    with mlflow.start_run(run_name=model_name):\n",
    "        # Configurar GridSearchCV\n",
    "        grid_search = GridSearchCV(model, param_grid, cv=5, scoring='precision', n_jobs=-1)\n",
    "        \n",
    "        # Entrenar el modelo\n",
    "        grid_search.fit(X_train, y_train)\n",
    "        \n",
    "        # Obtener el mejor modelo encontrado por GridSearchCV\n",
    "        best_model = grid_search.best_estimator_\n",
    "        \n",
    "        # Realizar predicciones\n",
    "        y_pred = best_model.predict(X_test)\n",
    "        y_probs = best_model.predict_proba(X_test)[:, 1] if hasattr(best_model, \"predict_proba\") else None\n",
    "        \n",
    "        # Calcular métricas\n",
    "        acc = accuracy_score(y_test, y_pred)\n",
    "        precision = precision_score(y_test, y_pred, average='weighted')\n",
    "        recall = recall_score(y_test, y_pred, average='weighted')\n",
    "        f1 = f1_score(y_test, y_pred, average='weighted')\n",
    "        \n",
    "        # Registrar parámetros y métricas en MLflow\n",
    "        mlflow.log_params(grid_search.best_params_)\n",
    "        mlflow.log_metric(\"accuracy\", acc)\n",
    "        mlflow.log_metric(\"precision\", precision)\n",
    "        mlflow.log_metric(\"recall\", recall)\n",
    "        mlflow.log_metric(\"f1_score\", f1)\n",
    "        \n",
    "        # Registrar el mejor modelo en MLflow\n",
    "        mlflow.sklearn.log_model(best_model, \"best_model\")\n",
    "        \n",
    "        print(f\"Mejor modelo para {model_name} registrado con accuracy: {acc}, precision: {precision}, recall: {recall}, F1 Score: {f1}\")\n"
   ]
  }
 ],
 "metadata": {
  "kernelspec": {
   "display_name": "Python 3",
   "language": "python",
   "name": "python3"
  },
  "language_info": {
   "codemirror_mode": {
    "name": "ipython",
    "version": 3
   },
   "file_extension": ".py",
   "mimetype": "text/x-python",
   "name": "python",
   "nbconvert_exporter": "python",
   "pygments_lexer": "ipython3",
   "version": "3.11.4"
  }
 },
 "nbformat": 4,
 "nbformat_minor": 2
}
