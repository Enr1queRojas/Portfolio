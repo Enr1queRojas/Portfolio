{
 "cells": [
  {
   "cell_type": "markdown",
   "metadata": {},
   "source": [
    "# Understanding the Problem and Data Preparation "
   ]
  },
  {
   "cell_type": "markdown",
   "metadata": {},
   "source": [
    "## Problem Definition\n",
    "Clarify the goal of classifying credit risk of applicants using the available features in the dataset. The primary aim is to predict whether a loan application is of high risk or low risk based on financial and personal details provided by applicants."
   ]
  },
  {
   "cell_type": "markdown",
   "metadata": {},
   "source": [
    "## Data Loading and Initial Exploration\n",
    "First, let's load the dataset and perform an initial exploration to understand its structure and data types. This includes:\n",
    "\n",
    "- Viewing the first few rows to understand the format.\n",
    "- Generating descriptive statistics to get an overview of numerical features.\n",
    "- Checking for missing values or any inconsistencies in the data."
   ]
  },
  {
   "cell_type": "code",
   "execution_count": 24,
   "metadata": {},
   "outputs": [],
   "source": [
    "# Importing necessary libraries\n",
    "import pandas as pd\n",
    "import numpy as np\n",
    "import matplotlib.pyplot as plt\n",
    "import seaborn as sns\n",
    "\n",
    "# Configuring visuals\n",
    "%matplotlib inline\n",
    "sns.set_style(\"whitegrid\")\n"
   ]
  },
  {
   "cell_type": "code",
   "execution_count": 25,
   "metadata": {},
   "outputs": [
    {
     "data": {
      "text/html": [
       "<div>\n",
       "<style scoped>\n",
       "    .dataframe tbody tr th:only-of-type {\n",
       "        vertical-align: middle;\n",
       "    }\n",
       "\n",
       "    .dataframe tbody tr th {\n",
       "        vertical-align: top;\n",
       "    }\n",
       "\n",
       "    .dataframe thead th {\n",
       "        text-align: right;\n",
       "    }\n",
       "</style>\n",
       "<table border=\"1\" class=\"dataframe\">\n",
       "  <thead>\n",
       "    <tr style=\"text-align: right;\">\n",
       "      <th></th>\n",
       "      <th>0</th>\n",
       "      <th>1</th>\n",
       "      <th>2</th>\n",
       "      <th>3</th>\n",
       "      <th>4</th>\n",
       "      <th>5</th>\n",
       "      <th>6</th>\n",
       "      <th>7</th>\n",
       "      <th>8</th>\n",
       "      <th>9</th>\n",
       "      <th>...</th>\n",
       "      <th>11</th>\n",
       "      <th>12</th>\n",
       "      <th>13</th>\n",
       "      <th>14</th>\n",
       "      <th>15</th>\n",
       "      <th>16</th>\n",
       "      <th>17</th>\n",
       "      <th>18</th>\n",
       "      <th>19</th>\n",
       "      <th>20</th>\n",
       "    </tr>\n",
       "  </thead>\n",
       "  <tbody>\n",
       "    <tr>\n",
       "      <th>0</th>\n",
       "      <td>A11</td>\n",
       "      <td>6</td>\n",
       "      <td>A34</td>\n",
       "      <td>A43</td>\n",
       "      <td>1169</td>\n",
       "      <td>A65</td>\n",
       "      <td>A75</td>\n",
       "      <td>4</td>\n",
       "      <td>A93</td>\n",
       "      <td>A101</td>\n",
       "      <td>...</td>\n",
       "      <td>A121</td>\n",
       "      <td>67</td>\n",
       "      <td>A143</td>\n",
       "      <td>A152</td>\n",
       "      <td>2</td>\n",
       "      <td>A173</td>\n",
       "      <td>1</td>\n",
       "      <td>A192</td>\n",
       "      <td>A201</td>\n",
       "      <td>1</td>\n",
       "    </tr>\n",
       "    <tr>\n",
       "      <th>1</th>\n",
       "      <td>A12</td>\n",
       "      <td>48</td>\n",
       "      <td>A32</td>\n",
       "      <td>A43</td>\n",
       "      <td>5951</td>\n",
       "      <td>A61</td>\n",
       "      <td>A73</td>\n",
       "      <td>2</td>\n",
       "      <td>A92</td>\n",
       "      <td>A101</td>\n",
       "      <td>...</td>\n",
       "      <td>A121</td>\n",
       "      <td>22</td>\n",
       "      <td>A143</td>\n",
       "      <td>A152</td>\n",
       "      <td>1</td>\n",
       "      <td>A173</td>\n",
       "      <td>1</td>\n",
       "      <td>A191</td>\n",
       "      <td>A201</td>\n",
       "      <td>2</td>\n",
       "    </tr>\n",
       "    <tr>\n",
       "      <th>2</th>\n",
       "      <td>A14</td>\n",
       "      <td>12</td>\n",
       "      <td>A34</td>\n",
       "      <td>A46</td>\n",
       "      <td>2096</td>\n",
       "      <td>A61</td>\n",
       "      <td>A74</td>\n",
       "      <td>2</td>\n",
       "      <td>A93</td>\n",
       "      <td>A101</td>\n",
       "      <td>...</td>\n",
       "      <td>A121</td>\n",
       "      <td>49</td>\n",
       "      <td>A143</td>\n",
       "      <td>A152</td>\n",
       "      <td>1</td>\n",
       "      <td>A172</td>\n",
       "      <td>2</td>\n",
       "      <td>A191</td>\n",
       "      <td>A201</td>\n",
       "      <td>1</td>\n",
       "    </tr>\n",
       "    <tr>\n",
       "      <th>3</th>\n",
       "      <td>A11</td>\n",
       "      <td>42</td>\n",
       "      <td>A32</td>\n",
       "      <td>A42</td>\n",
       "      <td>7882</td>\n",
       "      <td>A61</td>\n",
       "      <td>A74</td>\n",
       "      <td>2</td>\n",
       "      <td>A93</td>\n",
       "      <td>A103</td>\n",
       "      <td>...</td>\n",
       "      <td>A122</td>\n",
       "      <td>45</td>\n",
       "      <td>A143</td>\n",
       "      <td>A153</td>\n",
       "      <td>1</td>\n",
       "      <td>A173</td>\n",
       "      <td>2</td>\n",
       "      <td>A191</td>\n",
       "      <td>A201</td>\n",
       "      <td>1</td>\n",
       "    </tr>\n",
       "    <tr>\n",
       "      <th>4</th>\n",
       "      <td>A11</td>\n",
       "      <td>24</td>\n",
       "      <td>A33</td>\n",
       "      <td>A40</td>\n",
       "      <td>4870</td>\n",
       "      <td>A61</td>\n",
       "      <td>A73</td>\n",
       "      <td>3</td>\n",
       "      <td>A93</td>\n",
       "      <td>A101</td>\n",
       "      <td>...</td>\n",
       "      <td>A124</td>\n",
       "      <td>53</td>\n",
       "      <td>A143</td>\n",
       "      <td>A153</td>\n",
       "      <td>2</td>\n",
       "      <td>A173</td>\n",
       "      <td>2</td>\n",
       "      <td>A191</td>\n",
       "      <td>A201</td>\n",
       "      <td>2</td>\n",
       "    </tr>\n",
       "  </tbody>\n",
       "</table>\n",
       "<p>5 rows × 21 columns</p>\n",
       "</div>"
      ],
      "text/plain": [
       "    0   1    2    3     4    5    6   7    8     9   ...    11  12    13  \\\n",
       "0  A11   6  A34  A43  1169  A65  A75   4  A93  A101  ...  A121  67  A143   \n",
       "1  A12  48  A32  A43  5951  A61  A73   2  A92  A101  ...  A121  22  A143   \n",
       "2  A14  12  A34  A46  2096  A61  A74   2  A93  A101  ...  A121  49  A143   \n",
       "3  A11  42  A32  A42  7882  A61  A74   2  A93  A103  ...  A122  45  A143   \n",
       "4  A11  24  A33  A40  4870  A61  A73   3  A93  A101  ...  A124  53  A143   \n",
       "\n",
       "     14 15    16 17    18    19 20  \n",
       "0  A152  2  A173  1  A192  A201  1  \n",
       "1  A152  1  A173  1  A191  A201  2  \n",
       "2  A152  1  A172  2  A191  A201  1  \n",
       "3  A153  1  A173  2  A191  A201  1  \n",
       "4  A153  2  A173  2  A191  A201  2  \n",
       "\n",
       "[5 rows x 21 columns]"
      ]
     },
     "execution_count": 25,
     "metadata": {},
     "output_type": "execute_result"
    }
   ],
   "source": [
    "# Load the dataset\n",
    "data_path = '../data/german.data'\n",
    "data = pd.read_csv(data_path, header=None, delim_whitespace=True)\n",
    "\n",
    "# Displaying the first few rows of the dataset to ensure correct loading\n",
    "data.head()"
   ]
  },
  {
   "cell_type": "code",
   "execution_count": 26,
   "metadata": {},
   "outputs": [
    {
     "data": {
      "text/html": [
       "<div>\n",
       "<style scoped>\n",
       "    .dataframe tbody tr th:only-of-type {\n",
       "        vertical-align: middle;\n",
       "    }\n",
       "\n",
       "    .dataframe tbody tr th {\n",
       "        vertical-align: top;\n",
       "    }\n",
       "\n",
       "    .dataframe thead th {\n",
       "        text-align: right;\n",
       "    }\n",
       "</style>\n",
       "<table border=\"1\" class=\"dataframe\">\n",
       "  <thead>\n",
       "    <tr style=\"text-align: right;\">\n",
       "      <th></th>\n",
       "      <th>Status of Existing Checking Account</th>\n",
       "      <th>Duration in Months</th>\n",
       "      <th>Credit History</th>\n",
       "      <th>Purpose</th>\n",
       "      <th>Credit Amount</th>\n",
       "      <th>Savings Account/Bonds</th>\n",
       "      <th>Present Employment Since</th>\n",
       "      <th>Installment Rate in Percentage of Disposable Income</th>\n",
       "      <th>Personal Status and Sex</th>\n",
       "      <th>Other Debtors/Guarantors</th>\n",
       "      <th>...</th>\n",
       "      <th>Property</th>\n",
       "      <th>Age in Years</th>\n",
       "      <th>Other Installment Plans</th>\n",
       "      <th>Housing</th>\n",
       "      <th>Number of Existing Credits at This Bank</th>\n",
       "      <th>Job</th>\n",
       "      <th>Number of People Liable to Provide Maintenance For</th>\n",
       "      <th>Telephone</th>\n",
       "      <th>Foreign Worker</th>\n",
       "      <th>Risk</th>\n",
       "    </tr>\n",
       "  </thead>\n",
       "  <tbody>\n",
       "    <tr>\n",
       "      <th>0</th>\n",
       "      <td>A11</td>\n",
       "      <td>6</td>\n",
       "      <td>A34</td>\n",
       "      <td>A43</td>\n",
       "      <td>1169</td>\n",
       "      <td>A65</td>\n",
       "      <td>A75</td>\n",
       "      <td>4</td>\n",
       "      <td>A93</td>\n",
       "      <td>A101</td>\n",
       "      <td>...</td>\n",
       "      <td>A121</td>\n",
       "      <td>67</td>\n",
       "      <td>A143</td>\n",
       "      <td>A152</td>\n",
       "      <td>2</td>\n",
       "      <td>A173</td>\n",
       "      <td>1</td>\n",
       "      <td>A192</td>\n",
       "      <td>A201</td>\n",
       "      <td>1</td>\n",
       "    </tr>\n",
       "    <tr>\n",
       "      <th>1</th>\n",
       "      <td>A12</td>\n",
       "      <td>48</td>\n",
       "      <td>A32</td>\n",
       "      <td>A43</td>\n",
       "      <td>5951</td>\n",
       "      <td>A61</td>\n",
       "      <td>A73</td>\n",
       "      <td>2</td>\n",
       "      <td>A92</td>\n",
       "      <td>A101</td>\n",
       "      <td>...</td>\n",
       "      <td>A121</td>\n",
       "      <td>22</td>\n",
       "      <td>A143</td>\n",
       "      <td>A152</td>\n",
       "      <td>1</td>\n",
       "      <td>A173</td>\n",
       "      <td>1</td>\n",
       "      <td>A191</td>\n",
       "      <td>A201</td>\n",
       "      <td>2</td>\n",
       "    </tr>\n",
       "    <tr>\n",
       "      <th>2</th>\n",
       "      <td>A14</td>\n",
       "      <td>12</td>\n",
       "      <td>A34</td>\n",
       "      <td>A46</td>\n",
       "      <td>2096</td>\n",
       "      <td>A61</td>\n",
       "      <td>A74</td>\n",
       "      <td>2</td>\n",
       "      <td>A93</td>\n",
       "      <td>A101</td>\n",
       "      <td>...</td>\n",
       "      <td>A121</td>\n",
       "      <td>49</td>\n",
       "      <td>A143</td>\n",
       "      <td>A152</td>\n",
       "      <td>1</td>\n",
       "      <td>A172</td>\n",
       "      <td>2</td>\n",
       "      <td>A191</td>\n",
       "      <td>A201</td>\n",
       "      <td>1</td>\n",
       "    </tr>\n",
       "    <tr>\n",
       "      <th>3</th>\n",
       "      <td>A11</td>\n",
       "      <td>42</td>\n",
       "      <td>A32</td>\n",
       "      <td>A42</td>\n",
       "      <td>7882</td>\n",
       "      <td>A61</td>\n",
       "      <td>A74</td>\n",
       "      <td>2</td>\n",
       "      <td>A93</td>\n",
       "      <td>A103</td>\n",
       "      <td>...</td>\n",
       "      <td>A122</td>\n",
       "      <td>45</td>\n",
       "      <td>A143</td>\n",
       "      <td>A153</td>\n",
       "      <td>1</td>\n",
       "      <td>A173</td>\n",
       "      <td>2</td>\n",
       "      <td>A191</td>\n",
       "      <td>A201</td>\n",
       "      <td>1</td>\n",
       "    </tr>\n",
       "    <tr>\n",
       "      <th>4</th>\n",
       "      <td>A11</td>\n",
       "      <td>24</td>\n",
       "      <td>A33</td>\n",
       "      <td>A40</td>\n",
       "      <td>4870</td>\n",
       "      <td>A61</td>\n",
       "      <td>A73</td>\n",
       "      <td>3</td>\n",
       "      <td>A93</td>\n",
       "      <td>A101</td>\n",
       "      <td>...</td>\n",
       "      <td>A124</td>\n",
       "      <td>53</td>\n",
       "      <td>A143</td>\n",
       "      <td>A153</td>\n",
       "      <td>2</td>\n",
       "      <td>A173</td>\n",
       "      <td>2</td>\n",
       "      <td>A191</td>\n",
       "      <td>A201</td>\n",
       "      <td>2</td>\n",
       "    </tr>\n",
       "  </tbody>\n",
       "</table>\n",
       "<p>5 rows × 21 columns</p>\n",
       "</div>"
      ],
      "text/plain": [
       "  Status of Existing Checking Account  Duration in Months Credit History  \\\n",
       "0                                 A11                   6            A34   \n",
       "1                                 A12                  48            A32   \n",
       "2                                 A14                  12            A34   \n",
       "3                                 A11                  42            A32   \n",
       "4                                 A11                  24            A33   \n",
       "\n",
       "  Purpose  Credit Amount Savings Account/Bonds Present Employment Since  \\\n",
       "0     A43           1169                   A65                      A75   \n",
       "1     A43           5951                   A61                      A73   \n",
       "2     A46           2096                   A61                      A74   \n",
       "3     A42           7882                   A61                      A74   \n",
       "4     A40           4870                   A61                      A73   \n",
       "\n",
       "   Installment Rate in Percentage of Disposable Income  \\\n",
       "0                                                  4     \n",
       "1                                                  2     \n",
       "2                                                  2     \n",
       "3                                                  2     \n",
       "4                                                  3     \n",
       "\n",
       "  Personal Status and Sex Other Debtors/Guarantors  ...  Property  \\\n",
       "0                     A93                     A101  ...      A121   \n",
       "1                     A92                     A101  ...      A121   \n",
       "2                     A93                     A101  ...      A121   \n",
       "3                     A93                     A103  ...      A122   \n",
       "4                     A93                     A101  ...      A124   \n",
       "\n",
       "  Age in Years  Other Installment Plans Housing  \\\n",
       "0           67                     A143    A152   \n",
       "1           22                     A143    A152   \n",
       "2           49                     A143    A152   \n",
       "3           45                     A143    A153   \n",
       "4           53                     A143    A153   \n",
       "\n",
       "  Number of Existing Credits at This Bank   Job  \\\n",
       "0                                       2  A173   \n",
       "1                                       1  A173   \n",
       "2                                       1  A172   \n",
       "3                                       1  A173   \n",
       "4                                       2  A173   \n",
       "\n",
       "  Number of People Liable to Provide Maintenance For  Telephone  \\\n",
       "0                                                  1       A192   \n",
       "1                                                  1       A191   \n",
       "2                                                  2       A191   \n",
       "3                                                  2       A191   \n",
       "4                                                  2       A191   \n",
       "\n",
       "  Foreign Worker Risk  \n",
       "0           A201    1  \n",
       "1           A201    2  \n",
       "2           A201    1  \n",
       "3           A201    1  \n",
       "4           A201    2  \n",
       "\n",
       "[5 rows x 21 columns]"
      ]
     },
     "execution_count": 26,
     "metadata": {},
     "output_type": "execute_result"
    }
   ],
   "source": [
    "\n",
    "# Column names based on the dataset attribute description\n",
    "column_names = [\n",
    "    \"Status of Existing Checking Account\", \"Duration in Months\", \"Credit History\",\n",
    "    \"Purpose\", \"Credit Amount\", \"Savings Account/Bonds\", \"Present Employment Since\",\n",
    "    \"Installment Rate in Percentage of Disposable Income\", \"Personal Status and Sex\",\n",
    "    \"Other Debtors/Guarantors\", \"Present Residence Since\", \"Property\", \"Age in Years\",\n",
    "    \"Other Installment Plans\", \"Housing\", \"Number of Existing Credits at This Bank\",\n",
    "    \"Job\", \"Number of People Liable to Provide Maintenance For\", \"Telephone\",\n",
    "    \"Foreign Worker\",\"Risk\"\n",
    "]\n",
    "\n",
    "# Assign column names to the DataFrame\n",
    "data.columns = column_names\n",
    "\n",
    "# Verify the column names were added successfully\n",
    "data.head()\n",
    "\n"
   ]
  },
  {
   "cell_type": "code",
   "execution_count": 27,
   "metadata": {},
   "outputs": [
    {
     "data": {
      "text/plain": [
       "Status of Existing Checking Account                    object\n",
       "Duration in Months                                      int64\n",
       "Credit History                                         object\n",
       "Purpose                                                object\n",
       "Credit Amount                                           int64\n",
       "Savings Account/Bonds                                  object\n",
       "Present Employment Since                               object\n",
       "Installment Rate in Percentage of Disposable Income     int64\n",
       "Personal Status and Sex                                object\n",
       "Other Debtors/Guarantors                               object\n",
       "Present Residence Since                                 int64\n",
       "Property                                               object\n",
       "Age in Years                                            int64\n",
       "Other Installment Plans                                object\n",
       "Housing                                                object\n",
       "Number of Existing Credits at This Bank                 int64\n",
       "Job                                                    object\n",
       "Number of People Liable to Provide Maintenance For      int64\n",
       "Telephone                                              object\n",
       "Foreign Worker                                         object\n",
       "Risk                                                    int64\n",
       "dtype: object"
      ]
     },
     "execution_count": 27,
     "metadata": {},
     "output_type": "execute_result"
    }
   ],
   "source": [
    "data.dtypes"
   ]
  },
  {
   "cell_type": "markdown",
   "metadata": {},
   "source": [
    "### Generate descriptive statistics:"
   ]
  },
  {
   "cell_type": "code",
   "execution_count": 28,
   "metadata": {},
   "outputs": [
    {
     "data": {
      "text/html": [
       "<div>\n",
       "<style scoped>\n",
       "    .dataframe tbody tr th:only-of-type {\n",
       "        vertical-align: middle;\n",
       "    }\n",
       "\n",
       "    .dataframe tbody tr th {\n",
       "        vertical-align: top;\n",
       "    }\n",
       "\n",
       "    .dataframe thead th {\n",
       "        text-align: right;\n",
       "    }\n",
       "</style>\n",
       "<table border=\"1\" class=\"dataframe\">\n",
       "  <thead>\n",
       "    <tr style=\"text-align: right;\">\n",
       "      <th></th>\n",
       "      <th>Duration in Months</th>\n",
       "      <th>Credit Amount</th>\n",
       "      <th>Installment Rate in Percentage of Disposable Income</th>\n",
       "      <th>Present Residence Since</th>\n",
       "      <th>Age in Years</th>\n",
       "      <th>Number of Existing Credits at This Bank</th>\n",
       "      <th>Number of People Liable to Provide Maintenance For</th>\n",
       "      <th>Risk</th>\n",
       "    </tr>\n",
       "  </thead>\n",
       "  <tbody>\n",
       "    <tr>\n",
       "      <th>count</th>\n",
       "      <td>1000.000000</td>\n",
       "      <td>1000.000000</td>\n",
       "      <td>1000.000000</td>\n",
       "      <td>1000.000000</td>\n",
       "      <td>1000.000000</td>\n",
       "      <td>1000.000000</td>\n",
       "      <td>1000.000000</td>\n",
       "      <td>1000.000000</td>\n",
       "    </tr>\n",
       "    <tr>\n",
       "      <th>mean</th>\n",
       "      <td>20.903000</td>\n",
       "      <td>3271.258000</td>\n",
       "      <td>2.973000</td>\n",
       "      <td>2.845000</td>\n",
       "      <td>35.546000</td>\n",
       "      <td>1.407000</td>\n",
       "      <td>1.155000</td>\n",
       "      <td>1.300000</td>\n",
       "    </tr>\n",
       "    <tr>\n",
       "      <th>std</th>\n",
       "      <td>12.058814</td>\n",
       "      <td>2822.736876</td>\n",
       "      <td>1.118715</td>\n",
       "      <td>1.103718</td>\n",
       "      <td>11.375469</td>\n",
       "      <td>0.577654</td>\n",
       "      <td>0.362086</td>\n",
       "      <td>0.458487</td>\n",
       "    </tr>\n",
       "    <tr>\n",
       "      <th>min</th>\n",
       "      <td>4.000000</td>\n",
       "      <td>250.000000</td>\n",
       "      <td>1.000000</td>\n",
       "      <td>1.000000</td>\n",
       "      <td>19.000000</td>\n",
       "      <td>1.000000</td>\n",
       "      <td>1.000000</td>\n",
       "      <td>1.000000</td>\n",
       "    </tr>\n",
       "    <tr>\n",
       "      <th>25%</th>\n",
       "      <td>12.000000</td>\n",
       "      <td>1365.500000</td>\n",
       "      <td>2.000000</td>\n",
       "      <td>2.000000</td>\n",
       "      <td>27.000000</td>\n",
       "      <td>1.000000</td>\n",
       "      <td>1.000000</td>\n",
       "      <td>1.000000</td>\n",
       "    </tr>\n",
       "    <tr>\n",
       "      <th>50%</th>\n",
       "      <td>18.000000</td>\n",
       "      <td>2319.500000</td>\n",
       "      <td>3.000000</td>\n",
       "      <td>3.000000</td>\n",
       "      <td>33.000000</td>\n",
       "      <td>1.000000</td>\n",
       "      <td>1.000000</td>\n",
       "      <td>1.000000</td>\n",
       "    </tr>\n",
       "    <tr>\n",
       "      <th>75%</th>\n",
       "      <td>24.000000</td>\n",
       "      <td>3972.250000</td>\n",
       "      <td>4.000000</td>\n",
       "      <td>4.000000</td>\n",
       "      <td>42.000000</td>\n",
       "      <td>2.000000</td>\n",
       "      <td>1.000000</td>\n",
       "      <td>2.000000</td>\n",
       "    </tr>\n",
       "    <tr>\n",
       "      <th>max</th>\n",
       "      <td>72.000000</td>\n",
       "      <td>18424.000000</td>\n",
       "      <td>4.000000</td>\n",
       "      <td>4.000000</td>\n",
       "      <td>75.000000</td>\n",
       "      <td>4.000000</td>\n",
       "      <td>2.000000</td>\n",
       "      <td>2.000000</td>\n",
       "    </tr>\n",
       "  </tbody>\n",
       "</table>\n",
       "</div>"
      ],
      "text/plain": [
       "       Duration in Months  Credit Amount  \\\n",
       "count         1000.000000    1000.000000   \n",
       "mean            20.903000    3271.258000   \n",
       "std             12.058814    2822.736876   \n",
       "min              4.000000     250.000000   \n",
       "25%             12.000000    1365.500000   \n",
       "50%             18.000000    2319.500000   \n",
       "75%             24.000000    3972.250000   \n",
       "max             72.000000   18424.000000   \n",
       "\n",
       "       Installment Rate in Percentage of Disposable Income  \\\n",
       "count                                        1000.000000     \n",
       "mean                                            2.973000     \n",
       "std                                             1.118715     \n",
       "min                                             1.000000     \n",
       "25%                                             2.000000     \n",
       "50%                                             3.000000     \n",
       "75%                                             4.000000     \n",
       "max                                             4.000000     \n",
       "\n",
       "       Present Residence Since  Age in Years  \\\n",
       "count              1000.000000   1000.000000   \n",
       "mean                  2.845000     35.546000   \n",
       "std                   1.103718     11.375469   \n",
       "min                   1.000000     19.000000   \n",
       "25%                   2.000000     27.000000   \n",
       "50%                   3.000000     33.000000   \n",
       "75%                   4.000000     42.000000   \n",
       "max                   4.000000     75.000000   \n",
       "\n",
       "       Number of Existing Credits at This Bank  \\\n",
       "count                              1000.000000   \n",
       "mean                                  1.407000   \n",
       "std                                   0.577654   \n",
       "min                                   1.000000   \n",
       "25%                                   1.000000   \n",
       "50%                                   1.000000   \n",
       "75%                                   2.000000   \n",
       "max                                   4.000000   \n",
       "\n",
       "       Number of People Liable to Provide Maintenance For         Risk  \n",
       "count                                        1000.000000   1000.000000  \n",
       "mean                                            1.155000      1.300000  \n",
       "std                                             0.362086      0.458487  \n",
       "min                                             1.000000      1.000000  \n",
       "25%                                             1.000000      1.000000  \n",
       "50%                                             1.000000      1.000000  \n",
       "75%                                             1.000000      2.000000  \n",
       "max                                             2.000000      2.000000  "
      ]
     },
     "metadata": {},
     "output_type": "display_data"
    }
   ],
   "source": [
    "# Generate descriptive statistics to understand the dataset's numerical distributions\n",
    "display(data.describe())\n"
   ]
  },
  {
   "cell_type": "markdown",
   "metadata": {},
   "source": [
    "## Data Preprocessing\n",
    "This includes several tasks such as:\n",
    "\n",
    "- Cleaning the data by handling missing values and correcting any errors.\n",
    "- Encoding categorical variables into numeric format using techniques like one-hot encoding, especially since many machine learning models require numerical input.\n",
    "- Normalizing or standardizing numerical variables if required to ensure models function optimally."
   ]
  },
  {
   "cell_type": "markdown",
   "metadata": {},
   "source": [
    "### Check for missing values:"
   ]
  },
  {
   "cell_type": "code",
   "execution_count": 29,
   "metadata": {},
   "outputs": [
    {
     "name": "stdout",
     "output_type": "stream",
     "text": [
      "Missing values in each column:\n",
      " Status of Existing Checking Account                    0\n",
      "Duration in Months                                     0\n",
      "Credit History                                         0\n",
      "Purpose                                                0\n",
      "Credit Amount                                          0\n",
      "Savings Account/Bonds                                  0\n",
      "Present Employment Since                               0\n",
      "Installment Rate in Percentage of Disposable Income    0\n",
      "Personal Status and Sex                                0\n",
      "Other Debtors/Guarantors                               0\n",
      "Present Residence Since                                0\n",
      "Property                                               0\n",
      "Age in Years                                           0\n",
      "Other Installment Plans                                0\n",
      "Housing                                                0\n",
      "Number of Existing Credits at This Bank                0\n",
      "Job                                                    0\n",
      "Number of People Liable to Provide Maintenance For     0\n",
      "Telephone                                              0\n",
      "Foreign Worker                                         0\n",
      "Risk                                                   0\n",
      "dtype: int64\n"
     ]
    }
   ],
   "source": [
    "# Check for missing values in the dataset\n",
    "missing_values = data.isnull().sum()\n",
    "print(\"Missing values in each column:\\n\", missing_values)\n"
   ]
  },
  {
   "cell_type": "code",
   "execution_count": 30,
   "metadata": {},
   "outputs": [
    {
     "data": {
      "text/html": [
       "<div>\n",
       "<style scoped>\n",
       "    .dataframe tbody tr th:only-of-type {\n",
       "        vertical-align: middle;\n",
       "    }\n",
       "\n",
       "    .dataframe tbody tr th {\n",
       "        vertical-align: top;\n",
       "    }\n",
       "\n",
       "    .dataframe thead th {\n",
       "        text-align: right;\n",
       "    }\n",
       "</style>\n",
       "<table border=\"1\" class=\"dataframe\">\n",
       "  <thead>\n",
       "    <tr style=\"text-align: right;\">\n",
       "      <th></th>\n",
       "      <th>Status of Existing Checking Account</th>\n",
       "      <th>Duration in Months</th>\n",
       "      <th>Credit History</th>\n",
       "      <th>Purpose</th>\n",
       "      <th>Credit Amount</th>\n",
       "      <th>Savings Account/Bonds</th>\n",
       "      <th>Present Employment Since</th>\n",
       "      <th>Installment Rate in Percentage of Disposable Income</th>\n",
       "      <th>Personal Status and Sex</th>\n",
       "      <th>Other Debtors/Guarantors</th>\n",
       "      <th>...</th>\n",
       "      <th>Property</th>\n",
       "      <th>Age in Years</th>\n",
       "      <th>Other Installment Plans</th>\n",
       "      <th>Housing</th>\n",
       "      <th>Number of Existing Credits at This Bank</th>\n",
       "      <th>Job</th>\n",
       "      <th>Number of People Liable to Provide Maintenance For</th>\n",
       "      <th>Telephone</th>\n",
       "      <th>Foreign Worker</th>\n",
       "      <th>Risk</th>\n",
       "    </tr>\n",
       "  </thead>\n",
       "  <tbody>\n",
       "    <tr>\n",
       "      <th>0</th>\n",
       "      <td>&lt; 0 DM</td>\n",
       "      <td>6</td>\n",
       "      <td>critical account/ other credits existing (not ...</td>\n",
       "      <td>radio/television</td>\n",
       "      <td>1169</td>\n",
       "      <td>unknown/ no savings account</td>\n",
       "      <td>&gt;= 7 years</td>\n",
       "      <td>4</td>\n",
       "      <td>male: single</td>\n",
       "      <td>none</td>\n",
       "      <td>...</td>\n",
       "      <td>real estate</td>\n",
       "      <td>67</td>\n",
       "      <td>none</td>\n",
       "      <td>own</td>\n",
       "      <td>2</td>\n",
       "      <td>skilled employee / official</td>\n",
       "      <td>1</td>\n",
       "      <td>yes, registered under the customer's name</td>\n",
       "      <td>yes</td>\n",
       "      <td>1</td>\n",
       "    </tr>\n",
       "    <tr>\n",
       "      <th>1</th>\n",
       "      <td>0 &lt;= ... &lt; 200 DM</td>\n",
       "      <td>48</td>\n",
       "      <td>existing credits paid back duly till now</td>\n",
       "      <td>radio/television</td>\n",
       "      <td>5951</td>\n",
       "      <td>&lt; 100 DM</td>\n",
       "      <td>1 &lt;= ... &lt; 4 years</td>\n",
       "      <td>2</td>\n",
       "      <td>female: divorced/separated/married</td>\n",
       "      <td>none</td>\n",
       "      <td>...</td>\n",
       "      <td>real estate</td>\n",
       "      <td>22</td>\n",
       "      <td>none</td>\n",
       "      <td>own</td>\n",
       "      <td>1</td>\n",
       "      <td>skilled employee / official</td>\n",
       "      <td>1</td>\n",
       "      <td>none</td>\n",
       "      <td>yes</td>\n",
       "      <td>2</td>\n",
       "    </tr>\n",
       "    <tr>\n",
       "      <th>2</th>\n",
       "      <td>no checking account</td>\n",
       "      <td>12</td>\n",
       "      <td>critical account/ other credits existing (not ...</td>\n",
       "      <td>education</td>\n",
       "      <td>2096</td>\n",
       "      <td>&lt; 100 DM</td>\n",
       "      <td>4 &lt;= ... &lt; 7 years</td>\n",
       "      <td>2</td>\n",
       "      <td>male: single</td>\n",
       "      <td>none</td>\n",
       "      <td>...</td>\n",
       "      <td>real estate</td>\n",
       "      <td>49</td>\n",
       "      <td>none</td>\n",
       "      <td>own</td>\n",
       "      <td>1</td>\n",
       "      <td>unskilled - resident</td>\n",
       "      <td>2</td>\n",
       "      <td>none</td>\n",
       "      <td>yes</td>\n",
       "      <td>1</td>\n",
       "    </tr>\n",
       "    <tr>\n",
       "      <th>3</th>\n",
       "      <td>&lt; 0 DM</td>\n",
       "      <td>42</td>\n",
       "      <td>existing credits paid back duly till now</td>\n",
       "      <td>furniture/equipment</td>\n",
       "      <td>7882</td>\n",
       "      <td>&lt; 100 DM</td>\n",
       "      <td>4 &lt;= ... &lt; 7 years</td>\n",
       "      <td>2</td>\n",
       "      <td>male: single</td>\n",
       "      <td>guarantor</td>\n",
       "      <td>...</td>\n",
       "      <td>building society savings agreement/ life insur...</td>\n",
       "      <td>45</td>\n",
       "      <td>none</td>\n",
       "      <td>for free</td>\n",
       "      <td>1</td>\n",
       "      <td>skilled employee / official</td>\n",
       "      <td>2</td>\n",
       "      <td>none</td>\n",
       "      <td>yes</td>\n",
       "      <td>1</td>\n",
       "    </tr>\n",
       "    <tr>\n",
       "      <th>4</th>\n",
       "      <td>&lt; 0 DM</td>\n",
       "      <td>24</td>\n",
       "      <td>delay in paying off in the past</td>\n",
       "      <td>car (new)</td>\n",
       "      <td>4870</td>\n",
       "      <td>&lt; 100 DM</td>\n",
       "      <td>1 &lt;= ... &lt; 4 years</td>\n",
       "      <td>3</td>\n",
       "      <td>male: single</td>\n",
       "      <td>none</td>\n",
       "      <td>...</td>\n",
       "      <td>unknown / no property</td>\n",
       "      <td>53</td>\n",
       "      <td>none</td>\n",
       "      <td>for free</td>\n",
       "      <td>2</td>\n",
       "      <td>skilled employee / official</td>\n",
       "      <td>2</td>\n",
       "      <td>none</td>\n",
       "      <td>yes</td>\n",
       "      <td>2</td>\n",
       "    </tr>\n",
       "  </tbody>\n",
       "</table>\n",
       "<p>5 rows × 21 columns</p>\n",
       "</div>"
      ],
      "text/plain": [
       "  Status of Existing Checking Account  Duration in Months  \\\n",
       "0                              < 0 DM                   6   \n",
       "1                   0 <= ... < 200 DM                  48   \n",
       "2                 no checking account                  12   \n",
       "3                              < 0 DM                  42   \n",
       "4                              < 0 DM                  24   \n",
       "\n",
       "                                      Credit History              Purpose  \\\n",
       "0  critical account/ other credits existing (not ...     radio/television   \n",
       "1           existing credits paid back duly till now     radio/television   \n",
       "2  critical account/ other credits existing (not ...            education   \n",
       "3           existing credits paid back duly till now  furniture/equipment   \n",
       "4                    delay in paying off in the past            car (new)   \n",
       "\n",
       "   Credit Amount        Savings Account/Bonds Present Employment Since  \\\n",
       "0           1169  unknown/ no savings account               >= 7 years   \n",
       "1           5951                     < 100 DM       1 <= ... < 4 years   \n",
       "2           2096                     < 100 DM       4 <= ... < 7 years   \n",
       "3           7882                     < 100 DM       4 <= ... < 7 years   \n",
       "4           4870                     < 100 DM       1 <= ... < 4 years   \n",
       "\n",
       "   Installment Rate in Percentage of Disposable Income  \\\n",
       "0                                                  4     \n",
       "1                                                  2     \n",
       "2                                                  2     \n",
       "3                                                  2     \n",
       "4                                                  3     \n",
       "\n",
       "              Personal Status and Sex Other Debtors/Guarantors  ...  \\\n",
       "0                        male: single                     none  ...   \n",
       "1  female: divorced/separated/married                     none  ...   \n",
       "2                        male: single                     none  ...   \n",
       "3                        male: single                guarantor  ...   \n",
       "4                        male: single                     none  ...   \n",
       "\n",
       "                                            Property Age in Years  \\\n",
       "0                                        real estate           67   \n",
       "1                                        real estate           22   \n",
       "2                                        real estate           49   \n",
       "3  building society savings agreement/ life insur...           45   \n",
       "4                              unknown / no property           53   \n",
       "\n",
       "   Other Installment Plans   Housing Number of Existing Credits at This Bank  \\\n",
       "0                     none       own                                       2   \n",
       "1                     none       own                                       1   \n",
       "2                     none       own                                       1   \n",
       "3                     none  for free                                       1   \n",
       "4                     none  for free                                       2   \n",
       "\n",
       "                           Job  \\\n",
       "0  skilled employee / official   \n",
       "1  skilled employee / official   \n",
       "2         unskilled - resident   \n",
       "3  skilled employee / official   \n",
       "4  skilled employee / official   \n",
       "\n",
       "  Number of People Liable to Provide Maintenance For  \\\n",
       "0                                                  1   \n",
       "1                                                  1   \n",
       "2                                                  2   \n",
       "3                                                  2   \n",
       "4                                                  2   \n",
       "\n",
       "                                   Telephone Foreign Worker Risk  \n",
       "0  yes, registered under the customer's name            yes    1  \n",
       "1                                       none            yes    2  \n",
       "2                                       none            yes    1  \n",
       "3                                       none            yes    1  \n",
       "4                                       none            yes    2  \n",
       "\n",
       "[5 rows x 21 columns]"
      ]
     },
     "execution_count": 30,
     "metadata": {},
     "output_type": "execute_result"
    }
   ],
   "source": [
    "data_text= data.copy()\n",
    "\n",
    "\n",
    "\n",
    "descriptions = {\n",
    "    'Status of Existing Checking Account': {\n",
    "        'A11': '< 0 DM',\n",
    "        'A12': '0 <= ... < 200 DM',\n",
    "        'A13': '>= 200 DM / salary assignments for at least 1 year',\n",
    "        'A14': 'no checking account'\n",
    "    },\n",
    "    'Credit History': {\n",
    "        'A30': 'no credits taken/ all credits paid back duly',\n",
    "        'A31': 'all credits at this bank paid back duly',\n",
    "        'A32': 'existing credits paid back duly till now',\n",
    "        'A33': 'delay in paying off in the past',\n",
    "        'A34': 'critical account/ other credits existing (not at this bank)'\n",
    "    },\n",
    "    'Purpose': {\n",
    "        'A40': 'car (new)',\n",
    "        'A41': 'car (used)',\n",
    "        'A42': 'furniture/equipment',\n",
    "        'A43': 'radio/television',\n",
    "        'A44': 'domestic appliances',\n",
    "        'A45': 'repairs',\n",
    "        'A46': 'education',\n",
    "        'A47': '(vacation - does not exist?)',\n",
    "        'A48': 'retraining',\n",
    "        'A49': 'business',\n",
    "        'A410': 'others'\n",
    "    },\n",
    "    'Savings Account/Bonds': {\n",
    "        'A61': '< 100 DM',\n",
    "        'A62': '100 <= ... < 500 DM',\n",
    "        'A63': '500 <= ... < 1000 DM',\n",
    "        'A64': '>= 1000 DM',\n",
    "        'A65': 'unknown/ no savings account'\n",
    "    },\n",
    "    'Present Employment Since': {\n",
    "        'A71': 'unemployed',\n",
    "        'A72': '< 1 year',\n",
    "        'A73': '1 <= ... < 4 years',\n",
    "        'A74': '4 <= ... < 7 years',\n",
    "        'A75': '>= 7 years'\n",
    "    },\n",
    "    'Personal Status and Sex': {\n",
    "        'A91': 'male: divorced/separated',\n",
    "        'A92': 'female: divorced/separated/married',\n",
    "        'A93': 'male: single',\n",
    "        'A94': 'male: married/widowed',\n",
    "        'A95': 'female: single'\n",
    "    },\n",
    "    'Other Debtors/Guarantors': {\n",
    "        'A101': 'none',\n",
    "        'A102': 'co-applicant',\n",
    "        'A103': 'guarantor'\n",
    "    },\n",
    "    'Property': {\n",
    "        'A121': 'real estate',\n",
    "        'A122': 'building society savings agreement/ life insurance',\n",
    "        'A123': 'car or other, not in attribute 6',\n",
    "        'A124': 'unknown / no property'\n",
    "    },\n",
    "    'Other Installment Plans': {\n",
    "        'A141': 'bank',\n",
    "        'A142': 'stores',\n",
    "        'A143': 'none'\n",
    "    },\n",
    "    'Housing': {\n",
    "        'A151': 'rent',\n",
    "        'A152': 'own',\n",
    "        'A153': 'for free'\n",
    "    },\n",
    "    'Job': {\n",
    "        'A171': 'unemployed/ unskilled - non-resident',\n",
    "        'A172': 'unskilled - resident',\n",
    "        'A173': 'skilled employee / official',\n",
    "        'A174': 'management/ self-employed/ highly qualified employee/ officer'\n",
    "    },\n",
    "    'Telephone': {\n",
    "        'A191': 'none',\n",
    "        'A192': 'yes, registered under the customer\\'s name'\n",
    "    },\n",
    "    'Foreign Worker': {\n",
    "        'A201': 'yes',\n",
    "        'A202': 'no'\n",
    "    }\n",
    "}\n",
    "\n",
    "\n",
    "for column in descriptions:\n",
    "        if column in data_text.columns:\n",
    "            # Mapa de códigos a descripciones para la columna actual\n",
    "            code_to_description = descriptions[column]\n",
    "            # Aplicar el mapa a la columna\n",
    "            data_text[column] = data_text[column].map(code_to_description).fillna(data_text[column])\n",
    "            \n",
    "data_text.head()"
   ]
  },
  {
   "cell_type": "code",
   "execution_count": 31,
   "metadata": {},
   "outputs": [
    {
     "name": "stdout",
     "output_type": "stream",
     "text": [
      "Categorical columns: ['Status of Existing Checking Account', 'Credit History', 'Purpose', 'Savings Account/Bonds', 'Present Employment Since', 'Personal Status and Sex', 'Other Debtors/Guarantors', 'Property', 'Other Installment Plans', 'Housing', 'Job', 'Telephone', 'Foreign Worker']\n"
     ]
    }
   ],
   "source": [
    "\n",
    "# Isolate categorical columns\n",
    "categorical_columns = data.dtypes[data.dtypes == 'object'].index.tolist()\n",
    "\n",
    "print(\"Categorical columns:\", categorical_columns)"
   ]
  },
  {
   "cell_type": "code",
   "execution_count": 32,
   "metadata": {},
   "outputs": [
    {
     "name": "stdout",
     "output_type": "stream",
     "text": [
      "Status of Existing Checking Account 4\n",
      "Credit History 5\n",
      "Purpose 10\n",
      "Savings Account/Bonds 5\n",
      "Present Employment Since 5\n",
      "Personal Status and Sex 4\n",
      "Other Debtors/Guarantors 3\n",
      "Property 4\n",
      "Other Installment Plans 3\n",
      "Housing 3\n",
      "Job 4\n",
      "Telephone 2\n",
      "Foreign Worker 2\n"
     ]
    }
   ],
   "source": [
    "# Identify ordinal variables and numerical booleans\n",
    "for col in categorical_columns:\n",
    "    num_unique_values = data[col].nunique()\n",
    "    print(col, num_unique_values)"
   ]
  },
  {
   "cell_type": "code",
   "execution_count": 33,
   "metadata": {},
   "outputs": [
    {
     "data": {
      "text/plain": [
       "Status of Existing Checking Account                    int32\n",
       "Duration in Months                                     int64\n",
       "Credit History                                         int32\n",
       "Purpose                                                int32\n",
       "Credit Amount                                          int64\n",
       "Savings Account/Bonds                                  int32\n",
       "Present Employment Since                               int32\n",
       "Installment Rate in Percentage of Disposable Income    int64\n",
       "Personal Status and Sex                                int32\n",
       "Other Debtors/Guarantors                               int32\n",
       "Present Residence Since                                int64\n",
       "Property                                               int32\n",
       "Age in Years                                           int64\n",
       "Other Installment Plans                                int32\n",
       "Housing                                                int32\n",
       "Number of Existing Credits at This Bank                int64\n",
       "Job                                                    int32\n",
       "Number of People Liable to Provide Maintenance For     int64\n",
       "Telephone                                               int8\n",
       "Foreign Worker                                          int8\n",
       "Risk                                                   int64\n",
       "dtype: object"
      ]
     },
     "execution_count": 33,
     "metadata": {},
     "output_type": "execute_result"
    }
   ],
   "source": [
    "# Encoding categorical columns\n",
    "from sklearn.preprocessing import LabelEncoder\n",
    "label_encoder = LabelEncoder()\n",
    "\n",
    "for col in categorical_columns:\n",
    "    num_unique_values = data[col].nunique()\n",
    "    if num_unique_values == 2:\n",
    "        # Boolean numerical encoding\n",
    "        data[col] = data[col].astype('category').cat.codes\n",
    "    elif num_unique_values > 2:\n",
    "        # Ordinal enco\n",
    "        data[col] = label_encoder.fit_transform(data[col])\n",
    "\n",
    "data.dtypes"
   ]
  },
  {
   "cell_type": "markdown",
   "metadata": {},
   "source": [
    "## Exploratory Data Analysis (EDA)\n",
    "With the data cleaned and preprocessed, let’s dive into a more detailed exploratory analysis. This step will help us understand deeper patterns and potential relationships in the data that could inform the model training phase."
   ]
  },
  {
   "cell_type": "markdown",
   "metadata": {},
   "source": [
    "### Univariate Analysis\n",
    "Begin by examining the distribution of key variables, particularly the target variable if it’s defined, and other significant predictors."
   ]
  },
  {
   "cell_type": "code",
   "execution_count": 34,
   "metadata": {},
   "outputs": [
    {
     "data": {
      "application/vnd.plotly.v1+json": {
       "config": {
        "plotlyServerURL": "https://plot.ly"
       },
       "data": [
        {
         "branchvalues": "total",
         "customdata": [
          [
           "(?)",
           "(?)",
           "(?)",
           40.32621844011534
          ],
          [
           "(?)",
           "(?)",
           "(?)",
           32.851277305328736
          ],
          [
           "(?)",
           "(?)",
           "(?)",
           40.28778581281612
          ],
          [
           "(?)",
           "(?)",
           "(?)",
           28.959590698814374
          ],
          [
           2,
           "(?)",
           1,
           50.38547087031935
          ],
          [
           "(?)",
           "(?)",
           "(?)",
           34.801483392454045
          ],
          [
           "(?)",
           "(?)",
           "(?)",
           38.12410334695753
          ],
          [
           "(?)",
           "(?)",
           "(?)",
           27.609697821503865
          ],
          [
           2,
           36,
           1,
           43
          ],
          [
           "(?)",
           "(?)",
           "(?)",
           45.143960413031664
          ],
          [
           "(?)",
           "(?)",
           "(?)",
           33.647397995554996
          ],
          [
           "(?)",
           "(?)",
           "(?)",
           39.775280655836994
          ],
          [
           "(?)",
           "(?)",
           "(?)",
           29.222047435834998
          ],
          [
           "(?)",
           "(?)",
           "(?)",
           35.28852775721945
          ],
          [
           "(?)",
           "(?)",
           "(?)",
           28.036663495084046
          ],
          [
           "(?)",
           "(?)",
           "(?)",
           36.86042627112982
          ],
          [
           "(?)",
           "(?)",
           "(?)",
           31.92158063946992
          ],
          [
           "(?)",
           "(?)",
           "(?)",
           34.48429259344187
          ],
          [
           "(?)",
           "(?)",
           "(?)",
           31.07871741797945
          ],
          [
           2,
           6,
           1,
           62
          ],
          [
           "(?)",
           "(?)",
           "(?)",
           26.15876581156165
          ],
          [
           "(?)",
           "(?)",
           "(?)",
           42.01881643205975
          ],
          [
           2,
           18,
           2,
           47
          ],
          [
           "(?)",
           "(?)",
           "(?)",
           33.853585657370516
          ],
          [
           "(?)",
           "(?)",
           "(?)",
           43.10063957863055
          ],
          [
           "(?)",
           "(?)",
           "(?)",
           43.260518590998046
          ],
          [
           "(?)",
           "(?)",
           "(?)",
           44.706778370144704
          ],
          [
           4,
           21,
           2,
           33
          ],
          [
           "(?)",
           "(?)",
           "(?)",
           33.2055328225666
          ],
          [
           "(?)",
           "(?)",
           "(?)",
           39.79662014461073
          ],
          [
           2,
           36,
           1,
           27
          ],
          [
           "(?)",
           "(?)",
           1,
           36.554712687274794
          ],
          [
           "(?)",
           "(?)",
           1,
           34.37095825984715
          ],
          [
           "(?)",
           "(?)",
           "(?)",
           27.316804407713498
          ],
          [
           "(?)",
           "(?)",
           "(?)",
           35.929128346247616
          ],
          [
           "(?)",
           "(?)",
           "(?)",
           35.32938579875809
          ],
          [
           "(?)",
           "(?)",
           "(?)",
           36.84724863439644
          ],
          [
           "(?)",
           "(?)",
           "(?)",
           28.809191334704224
          ],
          [
           "(?)",
           "(?)",
           "(?)",
           39.78945368686732
          ],
          [
           "(?)",
           "(?)",
           "(?)",
           32.85759267354923
          ],
          [
           "(?)",
           "(?)",
           "(?)",
           37.408844668646346
          ],
          [
           "(?)",
           "(?)",
           "(?)",
           29.848679526010947
          ]
         ],
         "domain": {
          "x": [
           0,
           1
          ],
          "y": [
           0,
           1
          ]
         },
         "hovertemplate": "labels=%{label}<br>Credit Amount=%{value}<br>parent=%{parent}<br>id=%{id}<br>Credit History=%{customdata[0]}<br>Duration in Months=%{customdata[1]}<br>Risk=%{customdata[2]}<br>Age in Years=%{color}<extra></extra>",
         "ids": [
          "0/0",
          "1/0",
          "2/0",
          "3/0",
          "0/1",
          "1/1",
          "2/1",
          "3/1",
          "0/2",
          "1/2",
          "2/2",
          "0/3",
          "1/3",
          "2/3",
          "3/3",
          "0/4",
          "1/4",
          "2/4",
          "3/4",
          "0/5",
          "1/5",
          "2/5",
          "3/5",
          "0/6",
          "1/6",
          "2/6",
          "3/6",
          "0/7",
          "1/7",
          "2/7",
          "3/7",
          "1/8",
          "2/8",
          "3/8",
          "0/9",
          "1/9",
          "2/9",
          "3/9",
          "0",
          "1",
          "2",
          "3"
         ],
         "labels": [
          "0",
          "0",
          "0",
          "0",
          "1",
          "1",
          "1",
          "1",
          "2",
          "2",
          "2",
          "3",
          "3",
          "3",
          "3",
          "4",
          "4",
          "4",
          "4",
          "5",
          "5",
          "5",
          "5",
          "6",
          "6",
          "6",
          "6",
          "7",
          "7",
          "7",
          "7",
          "8",
          "8",
          "8",
          "9",
          "9",
          "9",
          "9",
          "0",
          "1",
          "2",
          "3"
         ],
         "marker": {
          "coloraxis": "coloraxis",
          "colors": [
           40.32621844011534,
           32.851277305328736,
           40.28778581281612,
           28.959590698814374,
           50.38547087031935,
           34.801483392454045,
           38.12410334695753,
           27.609697821503865,
           43,
           45.143960413031664,
           33.647397995554996,
           39.775280655836994,
           29.222047435834998,
           35.28852775721945,
           28.036663495084046,
           36.86042627112982,
           31.92158063946992,
           34.48429259344187,
           31.07871741797945,
           62,
           26.15876581156165,
           42.01881643205975,
           47,
           33.853585657370516,
           43.10063957863055,
           43.260518590998046,
           44.706778370144704,
           33,
           33.2055328225666,
           39.79662014461073,
           27,
           36.554712687274794,
           34.37095825984715,
           27.316804407713498,
           35.929128346247616,
           35.32938579875809,
           36.84724863439644,
           28.809191334704224,
           39.78945368686732,
           32.85759267354923,
           37.408844668646346,
           29.848679526010947
          ]
         },
         "name": "",
         "parents": [
          "0",
          "1",
          "2",
          "3",
          "0",
          "1",
          "2",
          "3",
          "0",
          "1",
          "2",
          "0",
          "1",
          "2",
          "3",
          "0",
          "1",
          "2",
          "3",
          "0",
          "1",
          "2",
          "3",
          "0",
          "1",
          "2",
          "3",
          "0",
          "1",
          "2",
          "3",
          "1",
          "2",
          "3",
          "0",
          "1",
          "2",
          "3",
          "",
          "",
          "",
          ""
         ],
         "type": "sunburst",
         "values": [
          28438,
          177209,
          478460,
          32641,
          19602,
          139545,
          365526,
          28460,
          15857,
          34961,
          47694,
          46231,
          205330,
          287799,
          15765,
          14967,
          204044,
          396851,
          80681,
          1338,
          8459,
          6962,
          1217,
          14056,
          10632,
          32704,
          2626,
          2319,
          45944,
          107046,
          3711,
          5273,
          3402,
          2178,
          41427,
          60713,
          280279,
          20911,
          184235,
          892110,
          2006723,
          188190
         ]
        }
       ],
       "layout": {
        "coloraxis": {
         "cmid": 33,
         "colorbar": {
          "title": {
           "text": "Age in Years"
          }
         },
         "colorscale": [
          [
           0,
           "rgb(103,0,31)"
          ],
          [
           0.1,
           "rgb(178,24,43)"
          ],
          [
           0.2,
           "rgb(214,96,77)"
          ],
          [
           0.3,
           "rgb(244,165,130)"
          ],
          [
           0.4,
           "rgb(253,219,199)"
          ],
          [
           0.5,
           "rgb(247,247,247)"
          ],
          [
           0.6,
           "rgb(209,229,240)"
          ],
          [
           0.7,
           "rgb(146,197,222)"
          ],
          [
           0.8,
           "rgb(67,147,195)"
          ],
          [
           0.9,
           "rgb(33,102,172)"
          ],
          [
           1,
           "rgb(5,48,97)"
          ]
         ]
        },
        "legend": {
         "tracegroupgap": 0
        },
        "margin": {
         "t": 60
        },
        "template": {
         "data": {
          "bar": [
           {
            "error_x": {
             "color": "#2a3f5f"
            },
            "error_y": {
             "color": "#2a3f5f"
            },
            "marker": {
             "line": {
              "color": "#E5ECF6",
              "width": 0.5
             },
             "pattern": {
              "fillmode": "overlay",
              "size": 10,
              "solidity": 0.2
             }
            },
            "type": "bar"
           }
          ],
          "barpolar": [
           {
            "marker": {
             "line": {
              "color": "#E5ECF6",
              "width": 0.5
             },
             "pattern": {
              "fillmode": "overlay",
              "size": 10,
              "solidity": 0.2
             }
            },
            "type": "barpolar"
           }
          ],
          "carpet": [
           {
            "aaxis": {
             "endlinecolor": "#2a3f5f",
             "gridcolor": "white",
             "linecolor": "white",
             "minorgridcolor": "white",
             "startlinecolor": "#2a3f5f"
            },
            "baxis": {
             "endlinecolor": "#2a3f5f",
             "gridcolor": "white",
             "linecolor": "white",
             "minorgridcolor": "white",
             "startlinecolor": "#2a3f5f"
            },
            "type": "carpet"
           }
          ],
          "choropleth": [
           {
            "colorbar": {
             "outlinewidth": 0,
             "ticks": ""
            },
            "type": "choropleth"
           }
          ],
          "contour": [
           {
            "colorbar": {
             "outlinewidth": 0,
             "ticks": ""
            },
            "colorscale": [
             [
              0,
              "#0d0887"
             ],
             [
              0.1111111111111111,
              "#46039f"
             ],
             [
              0.2222222222222222,
              "#7201a8"
             ],
             [
              0.3333333333333333,
              "#9c179e"
             ],
             [
              0.4444444444444444,
              "#bd3786"
             ],
             [
              0.5555555555555556,
              "#d8576b"
             ],
             [
              0.6666666666666666,
              "#ed7953"
             ],
             [
              0.7777777777777778,
              "#fb9f3a"
             ],
             [
              0.8888888888888888,
              "#fdca26"
             ],
             [
              1,
              "#f0f921"
             ]
            ],
            "type": "contour"
           }
          ],
          "contourcarpet": [
           {
            "colorbar": {
             "outlinewidth": 0,
             "ticks": ""
            },
            "type": "contourcarpet"
           }
          ],
          "heatmap": [
           {
            "colorbar": {
             "outlinewidth": 0,
             "ticks": ""
            },
            "colorscale": [
             [
              0,
              "#0d0887"
             ],
             [
              0.1111111111111111,
              "#46039f"
             ],
             [
              0.2222222222222222,
              "#7201a8"
             ],
             [
              0.3333333333333333,
              "#9c179e"
             ],
             [
              0.4444444444444444,
              "#bd3786"
             ],
             [
              0.5555555555555556,
              "#d8576b"
             ],
             [
              0.6666666666666666,
              "#ed7953"
             ],
             [
              0.7777777777777778,
              "#fb9f3a"
             ],
             [
              0.8888888888888888,
              "#fdca26"
             ],
             [
              1,
              "#f0f921"
             ]
            ],
            "type": "heatmap"
           }
          ],
          "heatmapgl": [
           {
            "colorbar": {
             "outlinewidth": 0,
             "ticks": ""
            },
            "colorscale": [
             [
              0,
              "#0d0887"
             ],
             [
              0.1111111111111111,
              "#46039f"
             ],
             [
              0.2222222222222222,
              "#7201a8"
             ],
             [
              0.3333333333333333,
              "#9c179e"
             ],
             [
              0.4444444444444444,
              "#bd3786"
             ],
             [
              0.5555555555555556,
              "#d8576b"
             ],
             [
              0.6666666666666666,
              "#ed7953"
             ],
             [
              0.7777777777777778,
              "#fb9f3a"
             ],
             [
              0.8888888888888888,
              "#fdca26"
             ],
             [
              1,
              "#f0f921"
             ]
            ],
            "type": "heatmapgl"
           }
          ],
          "histogram": [
           {
            "marker": {
             "pattern": {
              "fillmode": "overlay",
              "size": 10,
              "solidity": 0.2
             }
            },
            "type": "histogram"
           }
          ],
          "histogram2d": [
           {
            "colorbar": {
             "outlinewidth": 0,
             "ticks": ""
            },
            "colorscale": [
             [
              0,
              "#0d0887"
             ],
             [
              0.1111111111111111,
              "#46039f"
             ],
             [
              0.2222222222222222,
              "#7201a8"
             ],
             [
              0.3333333333333333,
              "#9c179e"
             ],
             [
              0.4444444444444444,
              "#bd3786"
             ],
             [
              0.5555555555555556,
              "#d8576b"
             ],
             [
              0.6666666666666666,
              "#ed7953"
             ],
             [
              0.7777777777777778,
              "#fb9f3a"
             ],
             [
              0.8888888888888888,
              "#fdca26"
             ],
             [
              1,
              "#f0f921"
             ]
            ],
            "type": "histogram2d"
           }
          ],
          "histogram2dcontour": [
           {
            "colorbar": {
             "outlinewidth": 0,
             "ticks": ""
            },
            "colorscale": [
             [
              0,
              "#0d0887"
             ],
             [
              0.1111111111111111,
              "#46039f"
             ],
             [
              0.2222222222222222,
              "#7201a8"
             ],
             [
              0.3333333333333333,
              "#9c179e"
             ],
             [
              0.4444444444444444,
              "#bd3786"
             ],
             [
              0.5555555555555556,
              "#d8576b"
             ],
             [
              0.6666666666666666,
              "#ed7953"
             ],
             [
              0.7777777777777778,
              "#fb9f3a"
             ],
             [
              0.8888888888888888,
              "#fdca26"
             ],
             [
              1,
              "#f0f921"
             ]
            ],
            "type": "histogram2dcontour"
           }
          ],
          "mesh3d": [
           {
            "colorbar": {
             "outlinewidth": 0,
             "ticks": ""
            },
            "type": "mesh3d"
           }
          ],
          "parcoords": [
           {
            "line": {
             "colorbar": {
              "outlinewidth": 0,
              "ticks": ""
             }
            },
            "type": "parcoords"
           }
          ],
          "pie": [
           {
            "automargin": true,
            "type": "pie"
           }
          ],
          "scatter": [
           {
            "fillpattern": {
             "fillmode": "overlay",
             "size": 10,
             "solidity": 0.2
            },
            "type": "scatter"
           }
          ],
          "scatter3d": [
           {
            "line": {
             "colorbar": {
              "outlinewidth": 0,
              "ticks": ""
             }
            },
            "marker": {
             "colorbar": {
              "outlinewidth": 0,
              "ticks": ""
             }
            },
            "type": "scatter3d"
           }
          ],
          "scattercarpet": [
           {
            "marker": {
             "colorbar": {
              "outlinewidth": 0,
              "ticks": ""
             }
            },
            "type": "scattercarpet"
           }
          ],
          "scattergeo": [
           {
            "marker": {
             "colorbar": {
              "outlinewidth": 0,
              "ticks": ""
             }
            },
            "type": "scattergeo"
           }
          ],
          "scattergl": [
           {
            "marker": {
             "colorbar": {
              "outlinewidth": 0,
              "ticks": ""
             }
            },
            "type": "scattergl"
           }
          ],
          "scattermapbox": [
           {
            "marker": {
             "colorbar": {
              "outlinewidth": 0,
              "ticks": ""
             }
            },
            "type": "scattermapbox"
           }
          ],
          "scatterpolar": [
           {
            "marker": {
             "colorbar": {
              "outlinewidth": 0,
              "ticks": ""
             }
            },
            "type": "scatterpolar"
           }
          ],
          "scatterpolargl": [
           {
            "marker": {
             "colorbar": {
              "outlinewidth": 0,
              "ticks": ""
             }
            },
            "type": "scatterpolargl"
           }
          ],
          "scatterternary": [
           {
            "marker": {
             "colorbar": {
              "outlinewidth": 0,
              "ticks": ""
             }
            },
            "type": "scatterternary"
           }
          ],
          "surface": [
           {
            "colorbar": {
             "outlinewidth": 0,
             "ticks": ""
            },
            "colorscale": [
             [
              0,
              "#0d0887"
             ],
             [
              0.1111111111111111,
              "#46039f"
             ],
             [
              0.2222222222222222,
              "#7201a8"
             ],
             [
              0.3333333333333333,
              "#9c179e"
             ],
             [
              0.4444444444444444,
              "#bd3786"
             ],
             [
              0.5555555555555556,
              "#d8576b"
             ],
             [
              0.6666666666666666,
              "#ed7953"
             ],
             [
              0.7777777777777778,
              "#fb9f3a"
             ],
             [
              0.8888888888888888,
              "#fdca26"
             ],
             [
              1,
              "#f0f921"
             ]
            ],
            "type": "surface"
           }
          ],
          "table": [
           {
            "cells": {
             "fill": {
              "color": "#EBF0F8"
             },
             "line": {
              "color": "white"
             }
            },
            "header": {
             "fill": {
              "color": "#C8D4E3"
             },
             "line": {
              "color": "white"
             }
            },
            "type": "table"
           }
          ]
         },
         "layout": {
          "annotationdefaults": {
           "arrowcolor": "#2a3f5f",
           "arrowhead": 0,
           "arrowwidth": 1
          },
          "autotypenumbers": "strict",
          "coloraxis": {
           "colorbar": {
            "outlinewidth": 0,
            "ticks": ""
           }
          },
          "colorscale": {
           "diverging": [
            [
             0,
             "#8e0152"
            ],
            [
             0.1,
             "#c51b7d"
            ],
            [
             0.2,
             "#de77ae"
            ],
            [
             0.3,
             "#f1b6da"
            ],
            [
             0.4,
             "#fde0ef"
            ],
            [
             0.5,
             "#f7f7f7"
            ],
            [
             0.6,
             "#e6f5d0"
            ],
            [
             0.7,
             "#b8e186"
            ],
            [
             0.8,
             "#7fbc41"
            ],
            [
             0.9,
             "#4d9221"
            ],
            [
             1,
             "#276419"
            ]
           ],
           "sequential": [
            [
             0,
             "#0d0887"
            ],
            [
             0.1111111111111111,
             "#46039f"
            ],
            [
             0.2222222222222222,
             "#7201a8"
            ],
            [
             0.3333333333333333,
             "#9c179e"
            ],
            [
             0.4444444444444444,
             "#bd3786"
            ],
            [
             0.5555555555555556,
             "#d8576b"
            ],
            [
             0.6666666666666666,
             "#ed7953"
            ],
            [
             0.7777777777777778,
             "#fb9f3a"
            ],
            [
             0.8888888888888888,
             "#fdca26"
            ],
            [
             1,
             "#f0f921"
            ]
           ],
           "sequentialminus": [
            [
             0,
             "#0d0887"
            ],
            [
             0.1111111111111111,
             "#46039f"
            ],
            [
             0.2222222222222222,
             "#7201a8"
            ],
            [
             0.3333333333333333,
             "#9c179e"
            ],
            [
             0.4444444444444444,
             "#bd3786"
            ],
            [
             0.5555555555555556,
             "#d8576b"
            ],
            [
             0.6666666666666666,
             "#ed7953"
            ],
            [
             0.7777777777777778,
             "#fb9f3a"
            ],
            [
             0.8888888888888888,
             "#fdca26"
            ],
            [
             1,
             "#f0f921"
            ]
           ]
          },
          "colorway": [
           "#636efa",
           "#EF553B",
           "#00cc96",
           "#ab63fa",
           "#FFA15A",
           "#19d3f3",
           "#FF6692",
           "#B6E880",
           "#FF97FF",
           "#FECB52"
          ],
          "font": {
           "color": "#2a3f5f"
          },
          "geo": {
           "bgcolor": "white",
           "lakecolor": "white",
           "landcolor": "#E5ECF6",
           "showlakes": true,
           "showland": true,
           "subunitcolor": "white"
          },
          "hoverlabel": {
           "align": "left"
          },
          "hovermode": "closest",
          "mapbox": {
           "style": "light"
          },
          "paper_bgcolor": "white",
          "plot_bgcolor": "#E5ECF6",
          "polar": {
           "angularaxis": {
            "gridcolor": "white",
            "linecolor": "white",
            "ticks": ""
           },
           "bgcolor": "#E5ECF6",
           "radialaxis": {
            "gridcolor": "white",
            "linecolor": "white",
            "ticks": ""
           }
          },
          "scene": {
           "xaxis": {
            "backgroundcolor": "#E5ECF6",
            "gridcolor": "white",
            "gridwidth": 2,
            "linecolor": "white",
            "showbackground": true,
            "ticks": "",
            "zerolinecolor": "white"
           },
           "yaxis": {
            "backgroundcolor": "#E5ECF6",
            "gridcolor": "white",
            "gridwidth": 2,
            "linecolor": "white",
            "showbackground": true,
            "ticks": "",
            "zerolinecolor": "white"
           },
           "zaxis": {
            "backgroundcolor": "#E5ECF6",
            "gridcolor": "white",
            "gridwidth": 2,
            "linecolor": "white",
            "showbackground": true,
            "ticks": "",
            "zerolinecolor": "white"
           }
          },
          "shapedefaults": {
           "line": {
            "color": "#2a3f5f"
           }
          },
          "ternary": {
           "aaxis": {
            "gridcolor": "white",
            "linecolor": "white",
            "ticks": ""
           },
           "baxis": {
            "gridcolor": "white",
            "linecolor": "white",
            "ticks": ""
           },
           "bgcolor": "#E5ECF6",
           "caxis": {
            "gridcolor": "white",
            "linecolor": "white",
            "ticks": ""
           }
          },
          "title": {
           "x": 0.05
          },
          "xaxis": {
           "automargin": true,
           "gridcolor": "white",
           "linecolor": "white",
           "ticks": "",
           "title": {
            "standoff": 15
           },
           "zerolinecolor": "white",
           "zerolinewidth": 2
          },
          "yaxis": {
           "automargin": true,
           "gridcolor": "white",
           "linecolor": "white",
           "ticks": "",
           "title": {
            "standoff": 15
           },
           "zerolinecolor": "white",
           "zerolinewidth": 2
          }
         }
        }
       }
      }
     },
     "metadata": {},
     "output_type": "display_data"
    }
   ],
   "source": [
    "import plotly.express as px\n",
    "\n",
    "\n",
    "\n",
    "\n",
    "fig = px.sunburst(\n",
    "    data, \n",
    "    path=['Personal Status and Sex', 'Purpose'], \n",
    "    values='Credit Amount',\n",
    "    color='Age in Years',\n",
    "    hover_data=['Credit History', 'Duration in Months', 'Risk'],  # Agregar columnas de interés aquí\n",
    "    color_continuous_scale='RdBu',\n",
    "    color_continuous_midpoint=data['Age in Years'].median()\n",
    ")\n",
    "fig.show()"
   ]
  }
 ],
 "metadata": {
  "kernelspec": {
   "display_name": "Python 3",
   "language": "python",
   "name": "python3"
  },
  "language_info": {
   "codemirror_mode": {
    "name": "ipython",
    "version": 3
   },
   "file_extension": ".py",
   "mimetype": "text/x-python",
   "name": "python",
   "nbconvert_exporter": "python",
   "pygments_lexer": "ipython3",
   "version": "3.11.4"
  }
 },
 "nbformat": 4,
 "nbformat_minor": 2
}
