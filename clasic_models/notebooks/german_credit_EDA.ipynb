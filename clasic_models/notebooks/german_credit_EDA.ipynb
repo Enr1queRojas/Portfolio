{
 "cells": [
  {
   "cell_type": "markdown",
   "metadata": {},
   "source": [
    "# German Credit Data - Exploratory Data Analysis (EDA)\n",
    "\n",
    "## Introduction\n",
    "This Jupyter Notebook aims to conduct a thorough exploratory data analysis on the \"German Credit Data\". The dataset contains attributes related to financial details of various individuals, categorized into risk factors for credit approval.\n",
    "\n",
    "## 1. Import Required Libraries\n",
    "Ensure to import necessary Python libraries that will be used for data manipulation, analysis, and visualization.\n",
    "\n",
    "```python\n",
    "import pandas as pd\n",
    "import numpy as np\n",
    "import matplotlib.pyplot as plt\n",
    "import seaborn as sns\n"
   ]
  },
  {
   "cell_type": "code",
   "execution_count": 3,
   "metadata": {},
   "outputs": [
    {
     "name": "stdout",
     "output_type": "stream",
     "text": [
      "c:\\Users\\Usuario\\OneDrive\\Documents\\Portfolio\\Portfolio\\clasic_models\n"
     ]
    }
   ],
   "source": [
    "import os\n",
    "print(os.getcwd())\n"
   ]
  },
  {
   "cell_type": "code",
   "execution_count": 5,
   "metadata": {},
   "outputs": [],
   "source": [
    "import pandas as pd\n",
    "import numpy as np\n",
    "import matplotlib.pyplot as plt\n",
    "import seaborn as sns\n",
    "data = pd.read_csv(r'c:\\Users\\Usuario\\OneDrive\\Documents\\Portfolio\\Portfolio\\clasic_models\\data\\german.data-numeric', header=None, delim_whitespace=True)\n"
   ]
  }
 ],
 "metadata": {
  "kernelspec": {
   "display_name": "Python 3",
   "language": "python",
   "name": "python3"
  },
  "language_info": {
   "codemirror_mode": {
    "name": "ipython",
    "version": 3
   },
   "file_extension": ".py",
   "mimetype": "text/x-python",
   "name": "python",
   "nbconvert_exporter": "python",
   "pygments_lexer": "ipython3",
   "version": "3.11.4"
  }
 },
 "nbformat": 4,
 "nbformat_minor": 2
}
